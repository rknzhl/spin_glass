{
 "cells": [
  {
   "cell_type": "code",
   "execution_count": 1,
   "metadata": {},
   "outputs": [],
   "source": [
    "# добавления пути до модуля spin_nn\n",
    "import sys\n",
    "import os\n",
    "\n",
    "project_path = os.path.abspath(os.path.join(os.getcwd(), \"..\"))\n",
    "if project_path not in sys.path:\n",
    "    sys.path.append(project_path)"
   ]
  },
  {
   "cell_type": "code",
   "execution_count": 2,
   "metadata": {},
   "outputs": [],
   "source": [
    "from spin_nn.model import MSKModel\n",
    "from spin_nn.utils import load_mnist\n",
    "from spin_nn.training import train\n",
    "from spin_nn.visualization import *\n",
    "\n",
    "import pandas as pd\n",
    "import numpy as np\n",
    "from sklearn.datasets import fetch_openml\n",
    "from sklearn.model_selection import train_test_split"
   ]
  },
  {
   "cell_type": "code",
   "execution_count": 3,
   "metadata": {},
   "outputs": [
    {
     "name": "stdout",
     "output_type": "stream",
     "text": [
      "Weights and structure loaded from /Users/rknzhl/projects/spin_glass/code/data/20241219_173925_epochs/weights_epoch_100.json\n"
     ]
    }
   ],
   "source": [
    "model = MSKModel.load_weights(\"/Users/rknzhl/projects/spin_glass/code/data/20241219_173925_epochs/weights_epoch_100.json\")"
   ]
  },
  {
   "cell_type": "code",
   "execution_count": null,
   "metadata": {},
   "outputs": [],
   "source": [
    "def get_iteraction_matrix(weights):\n",
    "    total_size = sum(w.shape[0] for w in weights) + weights[-1].shape[1]\n",
    "    interaction_matrix = np.zeros((total_size, total_size))\n",
    "\n",
    "    offset = 0\n",
    "    for i, weight in enumerate(weights):\n",
    "        rows, cols = weight.shape\n",
    "        interaction_matrix[offset:offset+rows, offset:offset+cols] = weight\n",
    "        interaction_matrix[offset:offset+cols, offset:offset+rows] = weight.T\n",
    "        offset += rows"
   ]
  },
  {
   "cell_type": "code",
   "execution_count": null,
   "metadata": {},
   "outputs": [],
   "source": [
    "J = get_iteraction_matrix(model.weights)"
   ]
  },
  {
   "cell_type": "code",
   "execution_count": 4,
   "metadata": {},
   "outputs": [],
   "source": [
    "\n",
    "def build_M_matrix(J, beta):\n",
    "    N = J.shape[0]\n",
    "    # Вычисляем a_i = sum_{ell} J_{iell}^2 для каждой строки\n",
    "    a = np.sum(J**2, axis=1)  # вектор длины N\n",
    "    # Формируем M\n",
    "    # M = beta * J - beta^2 * diag(a)\n",
    "    M = beta * J - np.diag(beta**2 * a)\n",
    "    return M\n",
    "\n",
    "def find_min_eigval(J, beta):\n",
    "    N = J.shape[0]\n",
    "    M = build_M_matrix(J, beta)\n",
    "    A = np.eye(N) - M  # I_N - M\n",
    "    eigvals = np.linalg.eigvalsh(A)  # для симметричной матрицы\n",
    "    return np.min(eigvals)"
   ]
  },
  {
   "cell_type": "code",
   "execution_count": null,
   "metadata": {},
   "outputs": [],
   "source": []
  },
  {
   "cell_type": "code",
   "execution_count": null,
   "metadata": {},
   "outputs": [],
   "source": [
    "betas = np.linspace(0, 5, 100)  # допустим, ищем в диапазоне от 0 до 5\n",
    "min_eigs = []\n",
    "for b in betas:\n",
    "    val = find_min_eigval(J, b)\n",
    "    min_eigs.append(val)\n",
    "\n",
    "# Ищем бету, при которой min_eig максимально близко к 0\n",
    "# Аргумент минимального по абсолютному значению собственноого числа\n",
    "idx_closest = np.argmin(np.abs(min_eigs))\n",
    "beta_crit = betas[idx_closest]\n",
    "print(\"Approximate critical beta:\", beta_crit)\n",
    "\n",
    "# Строим график минимального собственного числа от беты\n",
    "plt.figure()\n",
    "plt.plot(betas, min_eigs, marker='o')\n",
    "plt.axhline(0, color='r', linestyle='--')\n",
    "plt.xlabel(r'$\\beta$')\n",
    "plt.ylabel('Minimum eigenvalue of $(I - M)$')\n",
    "plt.title('Minimum eigenvalue vs beta')\n",
    "plt.grid(True)\n",
    "plt.show()"
   ]
  }
 ],
 "metadata": {
  "kernelspec": {
   "display_name": ".venv",
   "language": "python",
   "name": "python3"
  },
  "language_info": {
   "codemirror_mode": {
    "name": "ipython",
    "version": 3
   },
   "file_extension": ".py",
   "mimetype": "text/x-python",
   "name": "python",
   "nbconvert_exporter": "python",
   "pygments_lexer": "ipython3",
   "version": "3.11.10"
  }
 },
 "nbformat": 4,
 "nbformat_minor": 2
}
