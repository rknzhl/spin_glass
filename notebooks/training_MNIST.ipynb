{
 "cells": [
  {
   "cell_type": "code",
   "execution_count": 1,
   "metadata": {},
   "outputs": [],
   "source": [
    "# добавления пути до модуля spin_nn\n",
    "import sys\n",
    "import os\n",
    "\n",
    "project_path = os.path.abspath(os.path.join(os.getcwd(), \"..\"))\n",
    "if project_path not in sys.path:\n",
    "    sys.path.append(project_path)"
   ]
  },
  {
   "cell_type": "markdown",
   "metadata": {},
   "source": [
    "## ОБУЧЕНИЕ стекла на MNIST датасете"
   ]
  },
  {
   "cell_type": "code",
   "execution_count": 2,
   "metadata": {},
   "outputs": [],
   "source": [
    "from spin_nn.model import MSKModel\n",
    "from spin_nn.utils import load_mnist\n",
    "from spin_nn.training import train_model\n",
    "from spin_nn.visualization import plot_training_loss\n",
    "\n",
    "import pandas as pd\n",
    "import numpy as np\n",
    "from sklearn.datasets import fetch_openml\n",
    "from sklearn.model_selection import train_test_split\n"
   ]
  },
  {
   "cell_type": "code",
   "execution_count": 3,
   "metadata": {},
   "outputs": [],
   "source": [
    "X_train, X_test, y_train, y_test = load_mnist()"
   ]
  },
  {
   "cell_type": "code",
   "execution_count": 4,
   "metadata": {},
   "outputs": [],
   "source": [
    "if isinstance(X_train, pd.DataFrame):\n",
    "    X_train = X_train.to_numpy()\n",
    "if isinstance(X_test, pd.DataFrame):\n",
    "    X_test = X_test.to_numpy()\n",
    "\n",
    "# Преобразуем данные в нужный тип (float32)\n",
    "X_train = X_train.astype(np.float32)\n",
    "X_test = X_test.astype(np.float32)"
   ]
  },
  {
   "cell_type": "code",
   "execution_count": 5,
   "metadata": {},
   "outputs": [
    {
     "name": "stdout",
     "output_type": "stream",
     "text": [
      "(56000, 784) float32\n",
      "(56000,) int32\n"
     ]
    }
   ],
   "source": [
    "print(X_train.shape, X_train.dtype)  # Ожидаем (N, 784), dtype=float32\n",
    "print(y_train.shape, y_train.dtype)  # Ожидаем (N,), dtype=int32"
   ]
  },
  {
   "cell_type": "code",
   "execution_count": 6,
   "metadata": {},
   "outputs": [],
   "source": [
    "n_layers = 3\n",
    "layer_sizes = [784, 128, 10]  # Input (784), Hidden (128), Output (10 classes)\n",
    "beta = 1.0"
   ]
  },
  {
   "cell_type": "code",
   "execution_count": null,
   "metadata": {},
   "outputs": [
    {
     "data": {
      "text/plain": [
       "[array([[-0.01405506, -0.06224255, -0.03454854, ...,  0.01054223,\n",
       "          0.04214835,  0.00666044],\n",
       "        [-0.02365838, -0.00269039,  0.05762527, ..., -0.00649671,\n",
       "          0.0378901 ,  0.01849158],\n",
       "        [ 0.04003916, -0.02099311, -0.089184  , ...,  0.03505131,\n",
       "          0.02756495, -0.00730227],\n",
       "        ...,\n",
       "        [-0.02608742,  0.05039132,  0.01850825, ...,  0.03842359,\n",
       "          0.11533413,  0.00093795],\n",
       "        [-0.02504241,  0.01314594,  0.0585325 , ..., -0.00852087,\n",
       "         -0.00200219,  0.00898557],\n",
       "        [-0.02036455,  0.00215526,  0.01630104, ..., -0.0632869 ,\n",
       "         -0.03372616,  0.04347274]], shape=(784, 128)),\n",
       " array([[-0.03981171,  0.07757208, -0.0142389 , ...,  0.09811887,\n",
       "          0.03854476, -0.15727845],\n",
       "        [-0.04952554, -0.05861874, -0.01483214, ..., -0.11719275,\n",
       "          0.06674803, -0.22537441],\n",
       "        [ 0.08243482,  0.05470525,  0.18832054, ...,  0.0611137 ,\n",
       "         -0.01230123,  0.00523932],\n",
       "        ...,\n",
       "        [ 0.04761534,  0.06656585, -0.04614441, ..., -0.02998263,\n",
       "          0.01390502, -0.03883243],\n",
       "        [-0.08787815,  0.05891943, -0.02224535, ...,  0.00890927,\n",
       "          0.04349192,  0.00640698],\n",
       "        [-0.03827631,  0.13264866, -0.06768491, ...,  0.14596287,\n",
       "          0.05687403,  0.17715572]], shape=(128, 10))]"
      ]
     },
     "execution_count": 7,
     "metadata": {},
     "output_type": "execute_result"
    }
   ],
   "source": [
    "\n",
    "model = MSKModel(n_layers=n_layers, layer_sizes=layer_sizes, beta=beta)\n",
    "init_weights = model.initialize_weights()"
   ]
  },
  {
   "cell_type": "code",
   "execution_count": null,
   "metadata": {},
   "outputs": [
    {
     "name": "stdout",
     "output_type": "stream",
     "text": [
      "Epoch 1/10, Loss: 12.1656\n",
      "Epoch 2/10, Loss: 17.1148\n",
      "Epoch 3/10, Loss: 17.2154\n",
      "Epoch 4/10, Loss: 17.2095\n",
      "Epoch 5/10, Loss: 17.3184\n",
      "Epoch 6/10, Loss: 17.3908\n",
      "Epoch 7/10, Loss: 17.3033\n",
      "Epoch 8/10, Loss: 17.1062\n",
      "Epoch 9/10, Loss: 17.1622\n",
      "Epoch 10/10, Loss: 17.2036\n"
     ]
    }
   ],
   "source": [
    "epochs = 10\n",
    "learning_rate = 0.01\n",
    "\n",
    "losses = train_model(model, X_train, y_train, X_test, y_test, epochs=epochs, learning_rate=learning_rate)"
   ]
  },
  {
   "cell_type": "code",
   "execution_count": 9,
   "metadata": {},
   "outputs": [
    {
     "data": {
      "image/png": "[encoded data removed]",
      "text/plain": [
       "<Figure size 640x480 with 1 Axes>"
      ]
     },
     "metadata": {},
     "output_type": "display_data"
    }
   ],
   "source": [
    "\n",
    "plot_training_loss(losses)"
   ]
  }
 ],
 "metadata": {
  "kernelspec": {
   "display_name": ".venv",
   "language": "python",
   "name": "python3"
  },
  "language_info": {
   "codemirror_mode": {
    "name": "ipython",
    "version": 3
   },
   "file_extension": ".py",
   "mimetype": "text/x-python",
   "name": "python",
   "nbconvert_exporter": "python",
   "pygments_lexer": "ipython3",
   "version": "3.11.10"
  }
 },
 "nbformat": 4,
 "nbformat_minor": 2
}
