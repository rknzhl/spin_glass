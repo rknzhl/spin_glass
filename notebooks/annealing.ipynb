{
 "cells": [
  {
   "cell_type": "code",
   "execution_count": null,
   "metadata": {},
   "outputs": [],
   "source": [
    "from spin_nn.annealing import simulated_annealing\n",
    "n = 40\n",
    "initial_temperature = 4.0\n",
    "final_temperature = 0.01\n",
    "steps_per_temperature = 100\n",
    "simulated_annealing(n, initial_temperature, final_temperature, steps_per_temperature)"
   ]
  }
 ],
 "metadata": {
  "kernelspec": {
   "display_name": ".venv",
   "language": "python",
   "name": "python3"
  },
  "language_info": {
   "name": "python",
   "version": "3.11.10"
  }
 },
 "nbformat": 4,
 "nbformat_minor": 2
}
