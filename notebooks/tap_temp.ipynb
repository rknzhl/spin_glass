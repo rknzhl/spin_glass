{
 "cells": [
  {
   "cell_type": "code",
   "execution_count": 5,
   "metadata": {},
   "outputs": [],
   "source": [
    "# добавления пути до модуля spin_nn\n",
    "import sys\n",
    "import os\n",
    "\n",
    "project_path = os.path.abspath(os.path.join(os.getcwd(), \"..\"))\n",
    "if project_path not in sys.path:\n",
    "    sys.path.append(project_path)"
   ]
  },
  {
   "cell_type": "code",
   "execution_count": 54,
   "metadata": {},
   "outputs": [],
   "source": [
    "from spin_nn.model import MSKModel\n",
    "from spin_nn.utils import load_mnist\n",
    "from spin_nn.training import train\n",
    "from spin_nn.visualization import *\n",
    "from spin_nn.temp_calc import calc_min_b\n",
    "\n",
    "import pandas as pd\n",
    "import numpy as np\n",
    "from sklearn.datasets import fetch_openml\n",
    "from sklearn.model_selection import train_test_split\n",
    "\n",
    "np.set_printoptions(precision=15, suppress=False)"
   ]
  },
  {
   "cell_type": "code",
   "execution_count": 60,
   "metadata": {},
   "outputs": [
    {
     "name": "stdout",
     "output_type": "stream",
     "text": [
      "Weights and structure loaded from /Users/rknzhl/projects/spin_glass/code/data/20241219_173925_epochs/weights_epoch_50.json\n"
     ]
    }
   ],
   "source": [
    "model = MSKModel.load_weights(\"/Users/rknzhl/projects/spin_glass/code/data/20241219_173925_epochs/weights_epoch_50.json\")"
   ]
  },
  {
   "cell_type": "code",
   "execution_count": 61,
   "metadata": {},
   "outputs": [
    {
     "data": {
      "text/plain": [
       "[array([[ 0.008295333743447,  0.01574327506893 , -0.033333270342364, ...,\n",
       "         -0.020523158649705, -0.046392119654743,  0.04155467294624 ],\n",
       "        [-0.055635137088749, -0.002384248258132,  0.017657080495422, ...,\n",
       "          0.045837686781578,  0.048103447024675,  0.025907709805593],\n",
       "        [ 0.057287123592584,  0.059390527175891, -0.010549620724035, ...,\n",
       "         -0.012565010342113, -0.054241506014446,  0.018424448924157],\n",
       "        ...,\n",
       "        [-0.040593506815593, -0.015209748221213,  0.038707776588829, ...,\n",
       "         -0.015779092458647,  0.041742007372037, -0.021414182752344],\n",
       "        [-0.009107186013665,  0.019670757740423,  0.072850310485137, ...,\n",
       "          0.035696918162307, -0.048613065827611,  0.069457200045562],\n",
       "        [-0.004890641940984,  0.024588058568296, -0.022719061428444, ...,\n",
       "         -0.008960743521489,  0.018706410586207, -0.032537769113459]],\n",
       "       shape=(784, 256)),\n",
       " array([[-0.026882209250643,  0.005434042690722,  0.018382404350819, ...,\n",
       "         -0.014159152788031,  0.004560167558928,  0.028845114348786],\n",
       "        [ 0.003477914805507,  0.013510674827415, -0.058202708295686, ...,\n",
       "          0.021136983353616,  0.050941672922792,  0.014983570339537],\n",
       "        [-0.024323080246474, -0.003527372202279,  0.004283850167624, ...,\n",
       "         -0.008802446726662, -0.018879223552816,  0.002924421758463],\n",
       "        ...,\n",
       "        [-0.021823945976683, -0.100501104761525,  0.024067890202001, ...,\n",
       "         -0.012527239561579,  0.01520783582528 ,  0.061203094133937],\n",
       "        [ 0.00030156834857 ,  0.034779623225185, -0.011165340145055, ...,\n",
       "         -0.00963871655092 ,  0.036881016725619, -0.014758046813168],\n",
       "        [ 0.015159791741291, -0.102145285546016,  0.038153810563816, ...,\n",
       "         -0.046875735553752, -0.027988634628881,  0.011470847832936]],\n",
       "       shape=(256, 10))]"
      ]
     },
     "execution_count": 61,
     "metadata": {},
     "output_type": "execute_result"
    }
   ],
   "source": [
    "model.weights"
   ]
  },
  {
   "cell_type": "code",
   "execution_count": 62,
   "metadata": {},
   "outputs": [],
   "source": [
    "def get_iteraction_matrix(weights):\n",
    "    total_size = sum(w.shape[0] for w in weights) + weights[-1].shape[1]\n",
    "    interaction_matrix = np.zeros((total_size, total_size))\n",
    "\n",
    "    offset = 0\n",
    "    for i, weight in enumerate(weights):\n",
    "        rows, cols = weight.shape\n",
    "        interaction_matrix[offset:offset+rows, offset:offset+cols] = weight\n",
    "        interaction_matrix[offset:offset+cols, offset:offset+rows] = weight.T\n",
    "        offset += rows\n",
    "    return interaction_matrix"
   ]
  },
  {
   "cell_type": "code",
   "execution_count": 68,
   "metadata": {},
   "outputs": [],
   "source": [
    "def build_j_matrix(weights_list):\n",
    "    layer_sizes = []\n",
    "    # Предполагается, что weights_list не пуст\n",
    "    N0 = weights_list[0].shape[0]\n",
    "    layer_sizes.append(N0)\n",
    "    for W in weights_list:\n",
    "        out_size = W.shape[1]\n",
    "        layer_sizes.append(out_size)\n",
    "    total_size = sum(layer_sizes)\n",
    "    J = np.zeros((total_size, total_size))\n",
    "\n",
    "    offsets = np.cumsum([0] + layer_sizes)\n",
    "\n",
    "    for k, W in enumerate(weights_list):\n",
    "        in_start = offsets[k]\n",
    "        in_end = offsets[k+1]\n",
    "        out_start = offsets[k+1]\n",
    "        out_end = offsets[k+2]\n",
    "        # Заполняем блоки:\n",
    "        J[in_start:in_end, out_start:out_end] = W\n",
    "        J[out_start:out_end, in_start:in_end] = W.T\n",
    "        # Отладочная печать:\n",
    "        print(f\"Вставили блок W^{k+1}: shape={W.shape}, \"\n",
    "              f\"J[{in_start}:{in_end}, {out_start}:{out_end}]\")\n",
    "\n",
    "    return J"
   ]
  },
  {
   "cell_type": "code",
   "execution_count": 70,
   "metadata": {},
   "outputs": [
    {
     "name": "stdout",
     "output_type": "stream",
     "text": [
      "Вставили блок W^1: shape=(784, 256), J[0:784, 784:1040]\n",
      "Вставили блок W^2: shape=(256, 10), J[784:1040, 1040:1050]\n",
      "Min value in J: -0.2390142150233686\n",
      "Max value in J: 0.16687815626756963\n"
     ]
    }
   ],
   "source": [
    "J = get_iteraction_matrix(model.weights)\n",
    "\n",
    "print(\"Min value in J:\", np.min(J))\n",
    "print(\"Max value in J:\", np.max(J))"
   ]
  },
  {
   "cell_type": "code",
   "execution_count": 71,
   "metadata": {},
   "outputs": [
    {
     "name": "stdout",
     "output_type": "stream",
     "text": [
      "[[0. 0. 0. ... 0. 0. 0.]\n",
      " [0. 0. 0. ... 0. 0. 0.]\n",
      " [0. 0. 0. ... 0. 0. 0.]\n",
      " ...\n",
      " [0. 0. 0. ... 0. 0. 0.]\n",
      " [0. 0. 0. ... 0. 0. 0.]\n",
      " [0. 0. 0. ... 0. 0. 0.]]\n"
     ]
    }
   ],
   "source": [
    "print(J)"
   ]
  },
  {
   "cell_type": "code",
   "execution_count": 66,
   "metadata": {},
   "outputs": [],
   "source": [
    "\n",
    "def build_M_matrix(J, beta):\n",
    "    N = J.shape[0]\n",
    "    # Вычисляем a_i = sum_{ell} J_{iell}^2 для каждой строки\n",
    "    a = np.sum(J**2, axis=1)  # вектор длины N\n",
    "    # Формируем M\n",
    "    # M = beta * J - beta^2 * diag(a)\n",
    "    M = beta * J - np.diag(beta**2 * a)\n",
    "    return M\n",
    "\n",
    "def find_min_eigval(J, beta):\n",
    "    N = J.shape[0]\n",
    "    M = build_M_matrix(J, beta)\n",
    "    A = np.eye(N) - M  # I_N - M\n",
    "    eigvals = np.linalg.eigvalsh(A)  # для симметричной матрицы\n",
    "    return np.min(eigvals)"
   ]
  },
  {
   "cell_type": "code",
   "execution_count": null,
   "metadata": {},
   "outputs": [],
   "source": []
  },
  {
   "cell_type": "code",
   "execution_count": 72,
   "metadata": {},
   "outputs": [
    {
     "name": "stdout",
     "output_type": "stream",
     "text": [
      "Approximate critical beta: 0.9696969696969697\n"
     ]
    },
    {
     "data": {
      "image/png": "[encoded data removed]",
      "text/plain": [
       "<Figure size 640x480 with 1 Axes>"
      ]
     },
     "metadata": {},
     "output_type": "display_data"
    }
   ],
   "source": [
    "betas = np.linspace(0, 1.5, 100)\n",
    "min_eigs = []\n",
    "for b in betas:\n",
    "    val = find_min_eigval(J, b)\n",
    "    min_eigs.append(val)\n",
    "\n",
    "# Ищем бету, при которой min_eig максимально близко к 0\n",
    "# Аргумент минимального по абсолютному значению собственноого числа\n",
    "idx_closest = np.argmin(np.abs(min_eigs))\n",
    "beta_crit = betas[idx_closest]\n",
    "print(\"Approximate critical beta:\", beta_crit)\n",
    "\n",
    "# Строим график минимального собственного числа от беты\n",
    "plt.figure()\n",
    "plt.plot(betas, min_eigs, marker='o')\n",
    "plt.axhline(0, color='r', linestyle='--')\n",
    "plt.xlabel(r'$\\beta$')\n",
    "plt.ylabel('Minimum eigenvalue of $(I - M)$')\n",
    "plt.title('Minimum eigenvalue vs beta')\n",
    "plt.grid(True)\n",
    "plt.show()"
   ]
  }
 ],
 "metadata": {
  "kernelspec": {
   "display_name": ".venv",
   "language": "python",
   "name": "python3"
  },
  "language_info": {
   "codemirror_mode": {
    "name": "ipython",
    "version": 3
   },
   "file_extension": ".py",
   "mimetype": "text/x-python",
   "name": "python",
   "nbconvert_exporter": "python",
   "pygments_lexer": "ipython3",
   "version": "3.11.10"
  }
 },
 "nbformat": 4,
 "nbformat_minor": 2
}
