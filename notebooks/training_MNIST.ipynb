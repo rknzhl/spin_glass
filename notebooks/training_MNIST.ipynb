{
 "cells": [
  {
   "cell_type": "code",
   "execution_count": 1,
   "metadata": {},
   "outputs": [],
   "source": [
    "# добавления пути до модуля spin_nn\n",
    "import sys\n",
    "import os\n",
    "\n",
    "project_path = os.path.abspath(os.path.join(os.getcwd(), \"..\"))\n",
    "if project_path not in sys.path:\n",
    "    sys.path.append(project_path)"
   ]
  },
  {
   "cell_type": "markdown",
   "metadata": {},
   "source": [
    "## ОБУЧЕНИЕ стекла на MNIST датасете"
   ]
  },
  {
   "cell_type": "code",
   "execution_count": 2,
   "metadata": {},
   "outputs": [],
   "source": [
    "from spin_nn.model import MSKModel\n",
    "from spin_nn.utils import load_mnist\n",
    "from spin_nn.training import train\n",
    "\n",
    "import pandas as pd\n",
    "import numpy as np\n",
    "from sklearn.datasets import fetch_openml\n",
    "from sklearn.model_selection import train_test_split\n"
   ]
  },
  {
   "cell_type": "code",
   "execution_count": 3,
   "metadata": {},
   "outputs": [],
   "source": [
    "X_train, X_test, y_train, y_test = load_mnist()"
   ]
  },
  {
   "cell_type": "code",
   "execution_count": 4,
   "metadata": {},
   "outputs": [],
   "source": [
    "if isinstance(X_train, pd.DataFrame):\n",
    "    X_train = X_train.to_numpy()\n",
    "if isinstance(X_test, pd.DataFrame):\n",
    "    X_test = X_test.to_numpy()\n",
    "\n",
    "X_train = X_train.astype(np.float32)\n",
    "X_test = X_test.astype(np.float32)"
   ]
  },
  {
   "cell_type": "code",
   "execution_count": 5,
   "metadata": {},
   "outputs": [
    {
     "name": "stdout",
     "output_type": "stream",
     "text": [
      "(56000, 784) float32\n",
      "(56000, 10) float64\n"
     ]
    }
   ],
   "source": [
    "print(X_train.shape, X_train.dtype)  # Ожидаем (N, 784), dtype=float32\n",
    "print(y_train.shape, y_train.dtype)  # Ожидаем (N,), dtype=int32"
   ]
  },
  {
   "cell_type": "code",
   "execution_count": 6,
   "metadata": {},
   "outputs": [],
   "source": [
    "save_dir = '/Users/rknzhl/projects/spin_glass/code/data'"
   ]
  },
  {
   "cell_type": "code",
   "execution_count": 7,
   "metadata": {},
   "outputs": [
    {
     "name": "stdout",
     "output_type": "stream",
     "text": [
      "Saving weights to: /Users/rknzhl/projects/spin_glass/code/data/20241216_142627_epochs\n"
     ]
    },
    {
     "name": "stderr",
     "output_type": "stream",
     "text": [
      "Epoch 1/500: 100%|██████████| 1750/1750 [00:15<00:00, 115.99batch/s]\n"
     ]
    },
    {
     "name": "stdout",
     "output_type": "stream",
     "text": [
      "Weights and structure saved to /Users/rknzhl/projects/spin_glass/code/data/20241216_142627_epochs/weights_epoch_1.json\n",
      "Epoch 1/500, Avg Loss: 29.7176, Test Accuracy: 8.93%, Avg Energy: 1.3712\n"
     ]
    },
    {
     "name": "stderr",
     "output_type": "stream",
     "text": [
      "Epoch 2/500: 100%|██████████| 1750/1750 [00:17<00:00, 98.24batch/s] \n"
     ]
    },
    {
     "name": "stdout",
     "output_type": "stream",
     "text": [
      "Weights and structure saved to /Users/rknzhl/projects/spin_glass/code/data/20241216_142627_epochs/weights_epoch_2.json\n",
      "Epoch 2/500, Avg Loss: 24.2411, Test Accuracy: 10.41%, Avg Energy: 1.2726\n"
     ]
    },
    {
     "name": "stderr",
     "output_type": "stream",
     "text": [
      "Epoch 3/500: 100%|██████████| 1750/1750 [00:15<00:00, 113.78batch/s]\n"
     ]
    },
    {
     "name": "stdout",
     "output_type": "stream",
     "text": [
      "Weights and structure saved to /Users/rknzhl/projects/spin_glass/code/data/20241216_142627_epochs/weights_epoch_3.json\n",
      "Epoch 3/500, Avg Loss: 21.8988, Test Accuracy: 11.39%, Avg Energy: 1.4228\n"
     ]
    },
    {
     "name": "stderr",
     "output_type": "stream",
     "text": [
      "Epoch 4/500: 100%|██████████| 1750/1750 [00:15<00:00, 115.22batch/s]\n"
     ]
    },
    {
     "name": "stdout",
     "output_type": "stream",
     "text": [
      "Weights and structure saved to /Users/rknzhl/projects/spin_glass/code/data/20241216_142627_epochs/weights_epoch_4.json\n",
      "Epoch 4/500, Avg Loss: 21.1359, Test Accuracy: 12.56%, Avg Energy: 1.8613\n"
     ]
    },
    {
     "name": "stderr",
     "output_type": "stream",
     "text": [
      "Epoch 5/500: 100%|██████████| 1750/1750 [00:15<00:00, 113.73batch/s]\n"
     ]
    },
    {
     "name": "stdout",
     "output_type": "stream",
     "text": [
      "Weights and structure saved to /Users/rknzhl/projects/spin_glass/code/data/20241216_142627_epochs/weights_epoch_5.json\n",
      "Epoch 5/500, Avg Loss: 18.3056, Test Accuracy: 14.58%, Avg Energy: 2.2785\n"
     ]
    },
    {
     "name": "stderr",
     "output_type": "stream",
     "text": [
      "Epoch 6/500: 100%|██████████| 1750/1750 [00:15<00:00, 113.54batch/s]\n"
     ]
    },
    {
     "name": "stdout",
     "output_type": "stream",
     "text": [
      "Weights and structure saved to /Users/rknzhl/projects/spin_glass/code/data/20241216_142627_epochs/weights_epoch_6.json\n",
      "Epoch 6/500, Avg Loss: 15.1906, Test Accuracy: 17.51%, Avg Energy: 2.4180\n"
     ]
    },
    {
     "name": "stderr",
     "output_type": "stream",
     "text": [
      "Epoch 7/500: 100%|██████████| 1750/1750 [00:15<00:00, 113.28batch/s]\n"
     ]
    },
    {
     "name": "stdout",
     "output_type": "stream",
     "text": [
      "Weights and structure saved to /Users/rknzhl/projects/spin_glass/code/data/20241216_142627_epochs/weights_epoch_7.json\n",
      "Epoch 7/500, Avg Loss: 13.5508, Test Accuracy: 19.71%, Avg Energy: 2.2894\n"
     ]
    },
    {
     "name": "stderr",
     "output_type": "stream",
     "text": [
      "Epoch 8/500: 100%|██████████| 1750/1750 [00:15<00:00, 114.21batch/s]\n"
     ]
    },
    {
     "name": "stdout",
     "output_type": "stream",
     "text": [
      "Weights and structure saved to /Users/rknzhl/projects/spin_glass/code/data/20241216_142627_epochs/weights_epoch_8.json\n",
      "Epoch 8/500, Avg Loss: 12.6576, Test Accuracy: 22.47%, Avg Energy: 2.0779\n"
     ]
    },
    {
     "name": "stderr",
     "output_type": "stream",
     "text": [
      "Epoch 9/500: 100%|██████████| 1750/1750 [00:15<00:00, 111.20batch/s]\n"
     ]
    },
    {
     "name": "stdout",
     "output_type": "stream",
     "text": [
      "Weights and structure saved to /Users/rknzhl/projects/spin_glass/code/data/20241216_142627_epochs/weights_epoch_9.json\n",
      "Epoch 9/500, Avg Loss: 11.7285, Test Accuracy: 24.81%, Avg Energy: 1.8544\n"
     ]
    },
    {
     "name": "stderr",
     "output_type": "stream",
     "text": [
      "Epoch 10/500: 100%|██████████| 1750/1750 [00:19<00:00, 90.08batch/s] \n"
     ]
    },
    {
     "name": "stdout",
     "output_type": "stream",
     "text": [
      "Weights and structure saved to /Users/rknzhl/projects/spin_glass/code/data/20241216_142627_epochs/weights_epoch_10.json\n",
      "Epoch 10/500, Avg Loss: 10.7126, Test Accuracy: 26.07%, Avg Energy: 1.7302\n"
     ]
    },
    {
     "name": "stderr",
     "output_type": "stream",
     "text": [
      "Epoch 11/500: 100%|██████████| 1750/1750 [00:17<00:00, 101.34batch/s]\n"
     ]
    },
    {
     "name": "stdout",
     "output_type": "stream",
     "text": [
      "Weights and structure saved to /Users/rknzhl/projects/spin_glass/code/data/20241216_142627_epochs/weights_epoch_11.json\n",
      "Epoch 11/500, Avg Loss: 9.7000, Test Accuracy: 27.83%, Avg Energy: 1.7723\n"
     ]
    },
    {
     "name": "stderr",
     "output_type": "stream",
     "text": [
      "Epoch 12/500: 100%|██████████| 1750/1750 [00:15<00:00, 113.26batch/s]\n"
     ]
    },
    {
     "name": "stdout",
     "output_type": "stream",
     "text": [
      "Weights and structure saved to /Users/rknzhl/projects/spin_glass/code/data/20241216_142627_epochs/weights_epoch_12.json\n",
      "Epoch 12/500, Avg Loss: 8.7912, Test Accuracy: 29.96%, Avg Energy: 1.9644\n"
     ]
    },
    {
     "name": "stderr",
     "output_type": "stream",
     "text": [
      "Epoch 13/500: 100%|██████████| 1750/1750 [00:15<00:00, 113.66batch/s]\n"
     ]
    },
    {
     "name": "stdout",
     "output_type": "stream",
     "text": [
      "Weights and structure saved to /Users/rknzhl/projects/spin_glass/code/data/20241216_142627_epochs/weights_epoch_13.json\n",
      "Epoch 13/500, Avg Loss: 7.9775, Test Accuracy: 32.07%, Avg Energy: 2.2622\n"
     ]
    },
    {
     "name": "stderr",
     "output_type": "stream",
     "text": [
      "Epoch 14/500: 100%|██████████| 1750/1750 [00:15<00:00, 115.26batch/s]\n"
     ]
    },
    {
     "name": "stdout",
     "output_type": "stream",
     "text": [
      "Weights and structure saved to /Users/rknzhl/projects/spin_glass/code/data/20241216_142627_epochs/weights_epoch_14.json\n",
      "Epoch 14/500, Avg Loss: 7.3810, Test Accuracy: 31.76%, Avg Energy: 2.5430\n"
     ]
    },
    {
     "name": "stderr",
     "output_type": "stream",
     "text": [
      "Epoch 15/500: 100%|██████████| 1750/1750 [00:15<00:00, 113.51batch/s]\n"
     ]
    },
    {
     "name": "stdout",
     "output_type": "stream",
     "text": [
      "Weights and structure saved to /Users/rknzhl/projects/spin_glass/code/data/20241216_142627_epochs/weights_epoch_15.json\n",
      "Epoch 15/500, Avg Loss: 7.1283, Test Accuracy: 32.11%, Avg Energy: 2.7571\n"
     ]
    },
    {
     "name": "stderr",
     "output_type": "stream",
     "text": [
      "Epoch 16/500: 100%|██████████| 1750/1750 [00:15<00:00, 113.78batch/s]\n"
     ]
    },
    {
     "name": "stdout",
     "output_type": "stream",
     "text": [
      "Weights and structure saved to /Users/rknzhl/projects/spin_glass/code/data/20241216_142627_epochs/weights_epoch_16.json\n",
      "Epoch 16/500, Avg Loss: 7.0419, Test Accuracy: 32.84%, Avg Energy: 2.8533\n"
     ]
    },
    {
     "name": "stderr",
     "output_type": "stream",
     "text": [
      "Epoch 17/500: 100%|██████████| 1750/1750 [00:16<00:00, 107.86batch/s]\n"
     ]
    },
    {
     "name": "stdout",
     "output_type": "stream",
     "text": [
      "Weights and structure saved to /Users/rknzhl/projects/spin_glass/code/data/20241216_142627_epochs/weights_epoch_17.json\n",
      "Epoch 17/500, Avg Loss: 6.9565, Test Accuracy: 33.53%, Avg Energy: 2.8430\n"
     ]
    },
    {
     "name": "stderr",
     "output_type": "stream",
     "text": [
      "Epoch 18/500: 100%|██████████| 1750/1750 [00:15<00:00, 113.41batch/s]\n"
     ]
    },
    {
     "name": "stdout",
     "output_type": "stream",
     "text": [
      "Weights and structure saved to /Users/rknzhl/projects/spin_glass/code/data/20241216_142627_epochs/weights_epoch_18.json\n",
      "Epoch 18/500, Avg Loss: 6.7411, Test Accuracy: 34.74%, Avg Energy: 2.7345\n"
     ]
    },
    {
     "name": "stderr",
     "output_type": "stream",
     "text": [
      "Epoch 19/500: 100%|██████████| 1750/1750 [00:14<00:00, 120.24batch/s]\n"
     ]
    },
    {
     "name": "stdout",
     "output_type": "stream",
     "text": [
      "Weights and structure saved to /Users/rknzhl/projects/spin_glass/code/data/20241216_142627_epochs/weights_epoch_19.json\n",
      "Epoch 19/500, Avg Loss: 6.4557, Test Accuracy: 35.83%, Avg Energy: 2.5935\n"
     ]
    },
    {
     "name": "stderr",
     "output_type": "stream",
     "text": [
      "Epoch 20/500: 100%|██████████| 1750/1750 [00:14<00:00, 119.52batch/s]\n"
     ]
    },
    {
     "name": "stdout",
     "output_type": "stream",
     "text": [
      "Weights and structure saved to /Users/rknzhl/projects/spin_glass/code/data/20241216_142627_epochs/weights_epoch_20.json\n",
      "Epoch 20/500, Avg Loss: 6.2553, Test Accuracy: 34.95%, Avg Energy: 2.4288\n"
     ]
    },
    {
     "name": "stderr",
     "output_type": "stream",
     "text": [
      "Epoch 21/500: 100%|██████████| 1750/1750 [00:15<00:00, 116.31batch/s]\n"
     ]
    },
    {
     "name": "stdout",
     "output_type": "stream",
     "text": [
      "Weights and structure saved to /Users/rknzhl/projects/spin_glass/code/data/20241216_142627_epochs/weights_epoch_21.json\n",
      "Epoch 21/500, Avg Loss: 6.1518, Test Accuracy: 35.41%, Avg Energy: 2.2804\n"
     ]
    },
    {
     "name": "stderr",
     "output_type": "stream",
     "text": [
      "Epoch 22/500: 100%|██████████| 1750/1750 [00:15<00:00, 114.14batch/s]\n"
     ]
    },
    {
     "name": "stdout",
     "output_type": "stream",
     "text": [
      "Weights and structure saved to /Users/rknzhl/projects/spin_glass/code/data/20241216_142627_epochs/weights_epoch_22.json\n",
      "Epoch 22/500, Avg Loss: 6.1071, Test Accuracy: 35.26%, Avg Energy: 2.1923\n"
     ]
    },
    {
     "name": "stderr",
     "output_type": "stream",
     "text": [
      "Epoch 23/500: 100%|██████████| 1750/1750 [00:17<00:00, 101.05batch/s]\n"
     ]
    },
    {
     "name": "stdout",
     "output_type": "stream",
     "text": [
      "Weights and structure saved to /Users/rknzhl/projects/spin_glass/code/data/20241216_142627_epochs/weights_epoch_23.json\n",
      "Epoch 23/500, Avg Loss: 6.0816, Test Accuracy: 35.56%, Avg Energy: 2.1492\n"
     ]
    },
    {
     "name": "stderr",
     "output_type": "stream",
     "text": [
      "Epoch 24/500: 100%|██████████| 1750/1750 [00:15<00:00, 110.46batch/s]\n"
     ]
    },
    {
     "name": "stdout",
     "output_type": "stream",
     "text": [
      "Weights and structure saved to /Users/rknzhl/projects/spin_glass/code/data/20241216_142627_epochs/weights_epoch_24.json\n",
      "Epoch 24/500, Avg Loss: 6.0017, Test Accuracy: 36.63%, Avg Energy: 2.1449\n"
     ]
    },
    {
     "name": "stderr",
     "output_type": "stream",
     "text": [
      "Epoch 25/500: 100%|██████████| 1750/1750 [00:16<00:00, 108.80batch/s]\n"
     ]
    },
    {
     "name": "stdout",
     "output_type": "stream",
     "text": [
      "Weights and structure saved to /Users/rknzhl/projects/spin_glass/code/data/20241216_142627_epochs/weights_epoch_25.json\n",
      "Epoch 25/500, Avg Loss: 5.8664, Test Accuracy: 38.30%, Avg Energy: 2.1800\n"
     ]
    },
    {
     "name": "stderr",
     "output_type": "stream",
     "text": [
      "Epoch 26/500: 100%|██████████| 1750/1750 [00:15<00:00, 112.74batch/s]\n"
     ]
    },
    {
     "name": "stdout",
     "output_type": "stream",
     "text": [
      "Weights and structure saved to /Users/rknzhl/projects/spin_glass/code/data/20241216_142627_epochs/weights_epoch_26.json\n",
      "Epoch 26/500, Avg Loss: 5.7099, Test Accuracy: 39.76%, Avg Energy: 2.2354\n"
     ]
    },
    {
     "name": "stderr",
     "output_type": "stream",
     "text": [
      "Epoch 27/500: 100%|██████████| 1750/1750 [00:16<00:00, 105.39batch/s]\n"
     ]
    },
    {
     "name": "stdout",
     "output_type": "stream",
     "text": [
      "Weights and structure saved to /Users/rknzhl/projects/spin_glass/code/data/20241216_142627_epochs/weights_epoch_27.json\n",
      "Epoch 27/500, Avg Loss: 5.5771, Test Accuracy: 40.74%, Avg Energy: 2.2959\n"
     ]
    },
    {
     "name": "stderr",
     "output_type": "stream",
     "text": [
      "Epoch 28/500: 100%|██████████| 1750/1750 [00:15<00:00, 114.21batch/s]\n"
     ]
    },
    {
     "name": "stdout",
     "output_type": "stream",
     "text": [
      "Weights and structure saved to /Users/rknzhl/projects/spin_glass/code/data/20241216_142627_epochs/weights_epoch_28.json\n",
      "Epoch 28/500, Avg Loss: 5.4626, Test Accuracy: 42.01%, Avg Energy: 2.3455\n"
     ]
    },
    {
     "name": "stderr",
     "output_type": "stream",
     "text": [
      "Epoch 29/500: 100%|██████████| 1750/1750 [00:15<00:00, 114.18batch/s]\n"
     ]
    },
    {
     "name": "stdout",
     "output_type": "stream",
     "text": [
      "Weights and structure saved to /Users/rknzhl/projects/spin_glass/code/data/20241216_142627_epochs/weights_epoch_29.json\n",
      "Epoch 29/500, Avg Loss: 5.3981, Test Accuracy: 42.39%, Avg Energy: 2.3822\n"
     ]
    },
    {
     "name": "stderr",
     "output_type": "stream",
     "text": [
      "Epoch 30/500: 100%|██████████| 1750/1750 [00:15<00:00, 114.74batch/s]\n"
     ]
    },
    {
     "name": "stdout",
     "output_type": "stream",
     "text": [
      "Weights and structure saved to /Users/rknzhl/projects/spin_glass/code/data/20241216_142627_epochs/weights_epoch_30.json\n",
      "Epoch 30/500, Avg Loss: 5.3433, Test Accuracy: 43.18%, Avg Energy: 2.3956\n"
     ]
    },
    {
     "name": "stderr",
     "output_type": "stream",
     "text": [
      "Epoch 31/500: 100%|██████████| 1750/1750 [00:16<00:00, 108.38batch/s]\n"
     ]
    },
    {
     "name": "stdout",
     "output_type": "stream",
     "text": [
      "Weights and structure saved to /Users/rknzhl/projects/spin_glass/code/data/20241216_142627_epochs/weights_epoch_31.json\n",
      "Epoch 31/500, Avg Loss: 5.2773, Test Accuracy: 44.67%, Avg Energy: 2.3919\n"
     ]
    },
    {
     "name": "stderr",
     "output_type": "stream",
     "text": [
      "Epoch 32/500: 100%|██████████| 1750/1750 [00:16<00:00, 108.99batch/s]\n"
     ]
    },
    {
     "name": "stdout",
     "output_type": "stream",
     "text": [
      "Weights and structure saved to /Users/rknzhl/projects/spin_glass/code/data/20241216_142627_epochs/weights_epoch_32.json\n",
      "Epoch 32/500, Avg Loss: 5.1926, Test Accuracy: 45.69%, Avg Energy: 2.3741\n"
     ]
    },
    {
     "name": "stderr",
     "output_type": "stream",
     "text": [
      "Epoch 33/500: 100%|██████████| 1750/1750 [00:14<00:00, 120.55batch/s]\n"
     ]
    },
    {
     "name": "stdout",
     "output_type": "stream",
     "text": [
      "Weights and structure saved to /Users/rknzhl/projects/spin_glass/code/data/20241216_142627_epochs/weights_epoch_33.json\n",
      "Epoch 33/500, Avg Loss: 5.0836, Test Accuracy: 46.86%, Avg Energy: 2.3441\n"
     ]
    },
    {
     "name": "stderr",
     "output_type": "stream",
     "text": [
      "Epoch 34/500: 100%|██████████| 1750/1750 [00:14<00:00, 119.69batch/s]\n"
     ]
    },
    {
     "name": "stdout",
     "output_type": "stream",
     "text": [
      "Weights and structure saved to /Users/rknzhl/projects/spin_glass/code/data/20241216_142627_epochs/weights_epoch_34.json\n",
      "Epoch 34/500, Avg Loss: 4.9762, Test Accuracy: 48.12%, Avg Energy: 2.3052\n"
     ]
    },
    {
     "name": "stderr",
     "output_type": "stream",
     "text": [
      "Epoch 35/500: 100%|██████████| 1750/1750 [00:14<00:00, 117.18batch/s]\n"
     ]
    },
    {
     "name": "stdout",
     "output_type": "stream",
     "text": [
      "Weights and structure saved to /Users/rknzhl/projects/spin_glass/code/data/20241216_142627_epochs/weights_epoch_35.json\n",
      "Epoch 35/500, Avg Loss: 4.8848, Test Accuracy: 48.81%, Avg Energy: 2.2673\n"
     ]
    },
    {
     "name": "stderr",
     "output_type": "stream",
     "text": [
      "Epoch 36/500: 100%|██████████| 1750/1750 [00:15<00:00, 114.75batch/s]\n"
     ]
    },
    {
     "name": "stdout",
     "output_type": "stream",
     "text": [
      "Weights and structure saved to /Users/rknzhl/projects/spin_glass/code/data/20241216_142627_epochs/weights_epoch_36.json\n",
      "Epoch 36/500, Avg Loss: 4.8090, Test Accuracy: 49.35%, Avg Energy: 2.2331\n"
     ]
    },
    {
     "name": "stderr",
     "output_type": "stream",
     "text": [
      "Epoch 37/500: 100%|██████████| 1750/1750 [00:15<00:00, 114.86batch/s]\n"
     ]
    },
    {
     "name": "stdout",
     "output_type": "stream",
     "text": [
      "Weights and structure saved to /Users/rknzhl/projects/spin_glass/code/data/20241216_142627_epochs/weights_epoch_37.json\n",
      "Epoch 37/500, Avg Loss: 4.7557, Test Accuracy: 50.26%, Avg Energy: 2.2081\n"
     ]
    },
    {
     "name": "stderr",
     "output_type": "stream",
     "text": [
      "Epoch 38/500: 100%|██████████| 1750/1750 [00:16<00:00, 107.84batch/s]\n"
     ]
    },
    {
     "name": "stdout",
     "output_type": "stream",
     "text": [
      "Weights and structure saved to /Users/rknzhl/projects/spin_glass/code/data/20241216_142627_epochs/weights_epoch_38.json\n",
      "Epoch 38/500, Avg Loss: 4.6967, Test Accuracy: 50.74%, Avg Energy: 2.1914\n"
     ]
    },
    {
     "name": "stderr",
     "output_type": "stream",
     "text": [
      "Epoch 39/500: 100%|██████████| 1750/1750 [00:15<00:00, 113.74batch/s]\n"
     ]
    },
    {
     "name": "stdout",
     "output_type": "stream",
     "text": [
      "Weights and structure saved to /Users/rknzhl/projects/spin_glass/code/data/20241216_142627_epochs/weights_epoch_39.json\n",
      "Epoch 39/500, Avg Loss: 4.6424, Test Accuracy: 52.11%, Avg Energy: 2.1793\n"
     ]
    },
    {
     "name": "stderr",
     "output_type": "stream",
     "text": [
      "Epoch 40/500: 100%|██████████| 1750/1750 [00:15<00:00, 115.30batch/s]\n"
     ]
    },
    {
     "name": "stdout",
     "output_type": "stream",
     "text": [
      "Weights and structure saved to /Users/rknzhl/projects/spin_glass/code/data/20241216_142627_epochs/weights_epoch_40.json\n",
      "Epoch 40/500, Avg Loss: 4.5823, Test Accuracy: 52.85%, Avg Energy: 2.1818\n"
     ]
    },
    {
     "name": "stderr",
     "output_type": "stream",
     "text": [
      "Epoch 41/500: 100%|██████████| 1750/1750 [00:15<00:00, 113.68batch/s]\n"
     ]
    },
    {
     "name": "stdout",
     "output_type": "stream",
     "text": [
      "Weights and structure saved to /Users/rknzhl/projects/spin_glass/code/data/20241216_142627_epochs/weights_epoch_41.json\n",
      "Epoch 41/500, Avg Loss: 4.5126, Test Accuracy: 54.27%, Avg Energy: 2.1851\n"
     ]
    },
    {
     "name": "stderr",
     "output_type": "stream",
     "text": [
      "Epoch 42/500: 100%|██████████| 1750/1750 [00:16<00:00, 108.86batch/s]\n"
     ]
    },
    {
     "name": "stdout",
     "output_type": "stream",
     "text": [
      "Weights and structure saved to /Users/rknzhl/projects/spin_glass/code/data/20241216_142627_epochs/weights_epoch_42.json\n",
      "Epoch 42/500, Avg Loss: 4.4468, Test Accuracy: 55.29%, Avg Energy: 2.1895\n"
     ]
    },
    {
     "name": "stderr",
     "output_type": "stream",
     "text": [
      "Epoch 43/500: 100%|██████████| 1750/1750 [00:15<00:00, 112.63batch/s]\n"
     ]
    },
    {
     "name": "stdout",
     "output_type": "stream",
     "text": [
      "Weights and structure saved to /Users/rknzhl/projects/spin_glass/code/data/20241216_142627_epochs/weights_epoch_43.json\n",
      "Epoch 43/500, Avg Loss: 4.3840, Test Accuracy: 56.06%, Avg Energy: 2.1974\n"
     ]
    },
    {
     "name": "stderr",
     "output_type": "stream",
     "text": [
      "Epoch 44/500: 100%|██████████| 1750/1750 [00:15<00:00, 116.43batch/s]\n"
     ]
    },
    {
     "name": "stdout",
     "output_type": "stream",
     "text": [
      "Weights and structure saved to /Users/rknzhl/projects/spin_glass/code/data/20241216_142627_epochs/weights_epoch_44.json\n",
      "Epoch 44/500, Avg Loss: 4.3317, Test Accuracy: 57.51%, Avg Energy: 2.1998\n"
     ]
    },
    {
     "name": "stderr",
     "output_type": "stream",
     "text": [
      "Epoch 45/500: 100%|██████████| 1750/1750 [00:15<00:00, 113.30batch/s]\n"
     ]
    },
    {
     "name": "stdout",
     "output_type": "stream",
     "text": [
      "Weights and structure saved to /Users/rknzhl/projects/spin_glass/code/data/20241216_142627_epochs/weights_epoch_45.json\n",
      "Epoch 45/500, Avg Loss: 4.2954, Test Accuracy: 58.41%, Avg Energy: 2.2047\n"
     ]
    },
    {
     "name": "stderr",
     "output_type": "stream",
     "text": [
      "Epoch 46/500: 100%|██████████| 1750/1750 [00:15<00:00, 115.84batch/s]\n"
     ]
    },
    {
     "name": "stdout",
     "output_type": "stream",
     "text": [
      "Weights and structure saved to /Users/rknzhl/projects/spin_glass/code/data/20241216_142627_epochs/weights_epoch_46.json\n",
      "Epoch 46/500, Avg Loss: 4.2620, Test Accuracy: 58.79%, Avg Energy: 2.2064\n"
     ]
    },
    {
     "name": "stderr",
     "output_type": "stream",
     "text": [
      "Epoch 47/500: 100%|██████████| 1750/1750 [00:15<00:00, 114.29batch/s]\n"
     ]
    },
    {
     "name": "stdout",
     "output_type": "stream",
     "text": [
      "Weights and structure saved to /Users/rknzhl/projects/spin_glass/code/data/20241216_142627_epochs/weights_epoch_47.json\n",
      "Epoch 47/500, Avg Loss: 4.2347, Test Accuracy: 59.56%, Avg Energy: 2.2057\n"
     ]
    },
    {
     "name": "stderr",
     "output_type": "stream",
     "text": [
      "Epoch 48/500: 100%|██████████| 1750/1750 [00:15<00:00, 114.28batch/s]\n"
     ]
    },
    {
     "name": "stdout",
     "output_type": "stream",
     "text": [
      "Weights and structure saved to /Users/rknzhl/projects/spin_glass/code/data/20241216_142627_epochs/weights_epoch_48.json\n",
      "Epoch 48/500, Avg Loss: 4.2064, Test Accuracy: 60.27%, Avg Energy: 2.2045\n"
     ]
    },
    {
     "name": "stderr",
     "output_type": "stream",
     "text": [
      "Epoch 49/500: 100%|██████████| 1750/1750 [00:16<00:00, 109.01batch/s]\n"
     ]
    },
    {
     "name": "stdout",
     "output_type": "stream",
     "text": [
      "Weights and structure saved to /Users/rknzhl/projects/spin_glass/code/data/20241216_142627_epochs/weights_epoch_49.json\n",
      "Epoch 49/500, Avg Loss: 4.1813, Test Accuracy: 61.06%, Avg Energy: 2.1979\n"
     ]
    },
    {
     "name": "stderr",
     "output_type": "stream",
     "text": [
      "Epoch 50/500: 100%|██████████| 1750/1750 [00:16<00:00, 106.13batch/s]\n"
     ]
    },
    {
     "name": "stdout",
     "output_type": "stream",
     "text": [
      "Weights and structure saved to /Users/rknzhl/projects/spin_glass/code/data/20241216_142627_epochs/weights_epoch_50.json\n",
      "Epoch 50/500, Avg Loss: 4.1510, Test Accuracy: 61.79%, Avg Energy: 2.1896\n"
     ]
    },
    {
     "name": "stderr",
     "output_type": "stream",
     "text": [
      "Epoch 51/500: 100%|██████████| 1750/1750 [00:17<00:00, 98.20batch/s] \n"
     ]
    },
    {
     "name": "stdout",
     "output_type": "stream",
     "text": [
      "Weights and structure saved to /Users/rknzhl/projects/spin_glass/code/data/20241216_142627_epochs/weights_epoch_51.json\n",
      "Epoch 51/500, Avg Loss: 4.1266, Test Accuracy: 62.45%, Avg Energy: 2.1802\n"
     ]
    },
    {
     "name": "stderr",
     "output_type": "stream",
     "text": [
      "Epoch 52/500: 100%|██████████| 1750/1750 [00:16<00:00, 105.38batch/s]\n"
     ]
    },
    {
     "name": "stdout",
     "output_type": "stream",
     "text": [
      "Weights and structure saved to /Users/rknzhl/projects/spin_glass/code/data/20241216_142627_epochs/weights_epoch_52.json\n",
      "Epoch 52/500, Avg Loss: 4.1022, Test Accuracy: 63.04%, Avg Energy: 2.1739\n"
     ]
    },
    {
     "name": "stderr",
     "output_type": "stream",
     "text": [
      "Epoch 53/500: 100%|██████████| 1750/1750 [00:16<00:00, 106.69batch/s]\n"
     ]
    },
    {
     "name": "stdout",
     "output_type": "stream",
     "text": [
      "Weights and structure saved to /Users/rknzhl/projects/spin_glass/code/data/20241216_142627_epochs/weights_epoch_53.json\n",
      "Epoch 53/500, Avg Loss: 4.0806, Test Accuracy: 63.42%, Avg Energy: 2.1651\n"
     ]
    },
    {
     "name": "stderr",
     "output_type": "stream",
     "text": [
      "Epoch 54/500: 100%|██████████| 1750/1750 [00:15<00:00, 112.36batch/s]\n"
     ]
    },
    {
     "name": "stdout",
     "output_type": "stream",
     "text": [
      "Weights and structure saved to /Users/rknzhl/projects/spin_glass/code/data/20241216_142627_epochs/weights_epoch_54.json\n",
      "Epoch 54/500, Avg Loss: 4.0596, Test Accuracy: 63.91%, Avg Energy: 2.1569\n"
     ]
    },
    {
     "name": "stderr",
     "output_type": "stream",
     "text": [
      "Epoch 55/500: 100%|██████████| 1750/1750 [00:15<00:00, 111.51batch/s]\n"
     ]
    },
    {
     "name": "stdout",
     "output_type": "stream",
     "text": [
      "Weights and structure saved to /Users/rknzhl/projects/spin_glass/code/data/20241216_142627_epochs/weights_epoch_55.json\n",
      "Epoch 55/500, Avg Loss: 4.0410, Test Accuracy: 64.32%, Avg Energy: 2.1533\n"
     ]
    },
    {
     "name": "stderr",
     "output_type": "stream",
     "text": [
      "Epoch 56/500: 100%|██████████| 1750/1750 [00:15<00:00, 113.73batch/s]\n"
     ]
    },
    {
     "name": "stdout",
     "output_type": "stream",
     "text": [
      "Weights and structure saved to /Users/rknzhl/projects/spin_glass/code/data/20241216_142627_epochs/weights_epoch_56.json\n",
      "Epoch 56/500, Avg Loss: 4.0264, Test Accuracy: 64.97%, Avg Energy: 2.1515\n"
     ]
    },
    {
     "name": "stderr",
     "output_type": "stream",
     "text": [
      "Epoch 57/500: 100%|██████████| 1750/1750 [00:15<00:00, 113.49batch/s]\n"
     ]
    },
    {
     "name": "stdout",
     "output_type": "stream",
     "text": [
      "Weights and structure saved to /Users/rknzhl/projects/spin_glass/code/data/20241216_142627_epochs/weights_epoch_57.json\n",
      "Epoch 57/500, Avg Loss: 4.0098, Test Accuracy: 65.29%, Avg Energy: 2.1502\n"
     ]
    },
    {
     "name": "stderr",
     "output_type": "stream",
     "text": [
      "Epoch 58/500: 100%|██████████| 1750/1750 [00:17<00:00, 100.72batch/s]\n"
     ]
    },
    {
     "name": "stdout",
     "output_type": "stream",
     "text": [
      "Weights and structure saved to /Users/rknzhl/projects/spin_glass/code/data/20241216_142627_epochs/weights_epoch_58.json\n",
      "Epoch 58/500, Avg Loss: 3.9910, Test Accuracy: 65.86%, Avg Energy: 2.1493\n"
     ]
    },
    {
     "name": "stderr",
     "output_type": "stream",
     "text": [
      "Epoch 59/500: 100%|██████████| 1750/1750 [00:16<00:00, 106.77batch/s]\n"
     ]
    },
    {
     "name": "stdout",
     "output_type": "stream",
     "text": [
      "Weights and structure saved to /Users/rknzhl/projects/spin_glass/code/data/20241216_142627_epochs/weights_epoch_59.json\n",
      "Epoch 59/500, Avg Loss: 3.9791, Test Accuracy: 66.56%, Avg Energy: 2.1507\n"
     ]
    },
    {
     "name": "stderr",
     "output_type": "stream",
     "text": [
      "Epoch 60/500: 100%|██████████| 1750/1750 [00:15<00:00, 110.37batch/s]\n"
     ]
    },
    {
     "name": "stdout",
     "output_type": "stream",
     "text": [
      "Weights and structure saved to /Users/rknzhl/projects/spin_glass/code/data/20241216_142627_epochs/weights_epoch_60.json\n",
      "Epoch 60/500, Avg Loss: 3.9653, Test Accuracy: 67.30%, Avg Energy: 2.1528\n"
     ]
    },
    {
     "name": "stderr",
     "output_type": "stream",
     "text": [
      "Epoch 61/500: 100%|██████████| 1750/1750 [00:17<00:00, 102.45batch/s]\n"
     ]
    },
    {
     "name": "stdout",
     "output_type": "stream",
     "text": [
      "Weights and structure saved to /Users/rknzhl/projects/spin_glass/code/data/20241216_142627_epochs/weights_epoch_61.json\n",
      "Epoch 61/500, Avg Loss: 3.9493, Test Accuracy: 67.67%, Avg Energy: 2.1561\n"
     ]
    },
    {
     "name": "stderr",
     "output_type": "stream",
     "text": [
      "Epoch 62/500: 100%|██████████| 1750/1750 [00:17<00:00, 100.37batch/s]\n"
     ]
    },
    {
     "name": "stdout",
     "output_type": "stream",
     "text": [
      "Weights and structure saved to /Users/rknzhl/projects/spin_glass/code/data/20241216_142627_epochs/weights_epoch_62.json\n",
      "Epoch 62/500, Avg Loss: 3.9323, Test Accuracy: 68.02%, Avg Energy: 2.1611\n"
     ]
    },
    {
     "name": "stderr",
     "output_type": "stream",
     "text": [
      "Epoch 63/500: 100%|██████████| 1750/1750 [00:15<00:00, 114.57batch/s]\n"
     ]
    },
    {
     "name": "stdout",
     "output_type": "stream",
     "text": [
      "Weights and structure saved to /Users/rknzhl/projects/spin_glass/code/data/20241216_142627_epochs/weights_epoch_63.json\n",
      "Epoch 63/500, Avg Loss: 3.9210, Test Accuracy: 68.26%, Avg Energy: 2.1659\n"
     ]
    },
    {
     "name": "stderr",
     "output_type": "stream",
     "text": [
      "Epoch 64/500: 100%|██████████| 1750/1750 [00:15<00:00, 113.31batch/s]\n"
     ]
    },
    {
     "name": "stdout",
     "output_type": "stream",
     "text": [
      "Weights and structure saved to /Users/rknzhl/projects/spin_glass/code/data/20241216_142627_epochs/weights_epoch_64.json\n",
      "Epoch 64/500, Avg Loss: 3.9080, Test Accuracy: 68.53%, Avg Energy: 2.1700\n"
     ]
    },
    {
     "name": "stderr",
     "output_type": "stream",
     "text": [
      "Epoch 65/500: 100%|██████████| 1750/1750 [00:15<00:00, 113.17batch/s]\n"
     ]
    },
    {
     "name": "stdout",
     "output_type": "stream",
     "text": [
      "Weights and structure saved to /Users/rknzhl/projects/spin_glass/code/data/20241216_142627_epochs/weights_epoch_65.json\n",
      "Epoch 65/500, Avg Loss: 3.8954, Test Accuracy: 68.92%, Avg Energy: 2.1751\n"
     ]
    },
    {
     "name": "stderr",
     "output_type": "stream",
     "text": [
      "Epoch 66/500: 100%|██████████| 1750/1750 [00:15<00:00, 109.60batch/s]\n"
     ]
    },
    {
     "name": "stdout",
     "output_type": "stream",
     "text": [
      "Weights and structure saved to /Users/rknzhl/projects/spin_glass/code/data/20241216_142627_epochs/weights_epoch_66.json\n",
      "Epoch 66/500, Avg Loss: 3.8860, Test Accuracy: 69.26%, Avg Energy: 2.1777\n"
     ]
    },
    {
     "name": "stderr",
     "output_type": "stream",
     "text": [
      "Epoch 67/500: 100%|██████████| 1750/1750 [00:15<00:00, 115.48batch/s]\n"
     ]
    },
    {
     "name": "stdout",
     "output_type": "stream",
     "text": [
      "Weights and structure saved to /Users/rknzhl/projects/spin_glass/code/data/20241216_142627_epochs/weights_epoch_67.json\n",
      "Epoch 67/500, Avg Loss: 3.8737, Test Accuracy: 69.64%, Avg Energy: 2.1807\n"
     ]
    },
    {
     "name": "stderr",
     "output_type": "stream",
     "text": [
      "Epoch 68/500: 100%|██████████| 1750/1750 [00:15<00:00, 114.23batch/s]\n"
     ]
    },
    {
     "name": "stdout",
     "output_type": "stream",
     "text": [
      "Weights and structure saved to /Users/rknzhl/projects/spin_glass/code/data/20241216_142627_epochs/weights_epoch_68.json\n",
      "Epoch 68/500, Avg Loss: 3.8622, Test Accuracy: 69.66%, Avg Energy: 2.1831\n"
     ]
    },
    {
     "name": "stderr",
     "output_type": "stream",
     "text": [
      "Epoch 69/500: 100%|██████████| 1750/1750 [00:15<00:00, 116.04batch/s]\n"
     ]
    },
    {
     "name": "stdout",
     "output_type": "stream",
     "text": [
      "Weights and structure saved to /Users/rknzhl/projects/spin_glass/code/data/20241216_142627_epochs/weights_epoch_69.json\n",
      "Epoch 69/500, Avg Loss: 3.8500, Test Accuracy: 70.04%, Avg Energy: 2.1838\n"
     ]
    },
    {
     "name": "stderr",
     "output_type": "stream",
     "text": [
      "Epoch 70/500: 100%|██████████| 1750/1750 [00:15<00:00, 114.86batch/s]\n"
     ]
    },
    {
     "name": "stdout",
     "output_type": "stream",
     "text": [
      "Weights and structure saved to /Users/rknzhl/projects/spin_glass/code/data/20241216_142627_epochs/weights_epoch_70.json\n",
      "Epoch 70/500, Avg Loss: 3.8378, Test Accuracy: 70.38%, Avg Energy: 2.1851\n"
     ]
    },
    {
     "name": "stderr",
     "output_type": "stream",
     "text": [
      "Epoch 71/500: 100%|██████████| 1750/1750 [00:14<00:00, 123.21batch/s]\n"
     ]
    },
    {
     "name": "stdout",
     "output_type": "stream",
     "text": [
      "Weights and structure saved to /Users/rknzhl/projects/spin_glass/code/data/20241216_142627_epochs/weights_epoch_71.json\n",
      "Epoch 71/500, Avg Loss: 3.8270, Test Accuracy: 70.58%, Avg Energy: 2.1842\n"
     ]
    },
    {
     "name": "stderr",
     "output_type": "stream",
     "text": [
      "Epoch 72/500: 100%|██████████| 1750/1750 [00:14<00:00, 120.79batch/s]\n"
     ]
    },
    {
     "name": "stdout",
     "output_type": "stream",
     "text": [
      "Weights and structure saved to /Users/rknzhl/projects/spin_glass/code/data/20241216_142627_epochs/weights_epoch_72.json\n",
      "Epoch 72/500, Avg Loss: 3.8167, Test Accuracy: 70.95%, Avg Energy: 2.1845\n"
     ]
    },
    {
     "name": "stderr",
     "output_type": "stream",
     "text": [
      "Epoch 73/500: 100%|██████████| 1750/1750 [00:15<00:00, 115.16batch/s]\n"
     ]
    },
    {
     "name": "stdout",
     "output_type": "stream",
     "text": [
      "Weights and structure saved to /Users/rknzhl/projects/spin_glass/code/data/20241216_142627_epochs/weights_epoch_73.json\n",
      "Epoch 73/500, Avg Loss: 3.8074, Test Accuracy: 71.16%, Avg Energy: 2.1871\n"
     ]
    },
    {
     "name": "stderr",
     "output_type": "stream",
     "text": [
      "Epoch 74/500: 100%|██████████| 1750/1750 [00:13<00:00, 125.18batch/s]\n"
     ]
    },
    {
     "name": "stdout",
     "output_type": "stream",
     "text": [
      "Weights and structure saved to /Users/rknzhl/projects/spin_glass/code/data/20241216_142627_epochs/weights_epoch_74.json\n",
      "Epoch 74/500, Avg Loss: 3.7964, Test Accuracy: 71.42%, Avg Energy: 2.1881\n"
     ]
    },
    {
     "name": "stderr",
     "output_type": "stream",
     "text": [
      "Epoch 75/500: 100%|██████████| 1750/1750 [00:14<00:00, 122.87batch/s]\n"
     ]
    },
    {
     "name": "stdout",
     "output_type": "stream",
     "text": [
      "Weights and structure saved to /Users/rknzhl/projects/spin_glass/code/data/20241216_142627_epochs/weights_epoch_75.json\n",
      "Epoch 75/500, Avg Loss: 3.7864, Test Accuracy: 71.66%, Avg Energy: 2.1921\n"
     ]
    },
    {
     "name": "stderr",
     "output_type": "stream",
     "text": [
      "Epoch 76/500: 100%|██████████| 1750/1750 [00:14<00:00, 123.79batch/s]\n"
     ]
    },
    {
     "name": "stdout",
     "output_type": "stream",
     "text": [
      "Weights and structure saved to /Users/rknzhl/projects/spin_glass/code/data/20241216_142627_epochs/weights_epoch_76.json\n",
      "Epoch 76/500, Avg Loss: 3.7770, Test Accuracy: 71.79%, Avg Energy: 2.1925\n"
     ]
    },
    {
     "name": "stderr",
     "output_type": "stream",
     "text": [
      "Epoch 77/500: 100%|██████████| 1750/1750 [00:14<00:00, 118.09batch/s]\n"
     ]
    },
    {
     "name": "stdout",
     "output_type": "stream",
     "text": [
      "Weights and structure saved to /Users/rknzhl/projects/spin_glass/code/data/20241216_142627_epochs/weights_epoch_77.json\n",
      "Epoch 77/500, Avg Loss: 3.7663, Test Accuracy: 71.92%, Avg Energy: 2.1939\n"
     ]
    },
    {
     "name": "stderr",
     "output_type": "stream",
     "text": [
      "Epoch 78/500: 100%|██████████| 1750/1750 [00:14<00:00, 119.06batch/s]\n"
     ]
    },
    {
     "name": "stdout",
     "output_type": "stream",
     "text": [
      "Weights and structure saved to /Users/rknzhl/projects/spin_glass/code/data/20241216_142627_epochs/weights_epoch_78.json\n",
      "Epoch 78/500, Avg Loss: 3.7580, Test Accuracy: 72.07%, Avg Energy: 2.1983\n"
     ]
    },
    {
     "name": "stderr",
     "output_type": "stream",
     "text": [
      "Epoch 79/500: 100%|██████████| 1750/1750 [00:15<00:00, 115.15batch/s]\n"
     ]
    },
    {
     "name": "stdout",
     "output_type": "stream",
     "text": [
      "Weights and structure saved to /Users/rknzhl/projects/spin_glass/code/data/20241216_142627_epochs/weights_epoch_79.json\n",
      "Epoch 79/500, Avg Loss: 3.7485, Test Accuracy: 72.22%, Avg Energy: 2.2022\n"
     ]
    },
    {
     "name": "stderr",
     "output_type": "stream",
     "text": [
      "Epoch 80/500: 100%|██████████| 1750/1750 [00:14<00:00, 118.77batch/s]\n"
     ]
    },
    {
     "name": "stdout",
     "output_type": "stream",
     "text": [
      "Weights and structure saved to /Users/rknzhl/projects/spin_glass/code/data/20241216_142627_epochs/weights_epoch_80.json\n",
      "Epoch 80/500, Avg Loss: 3.7394, Test Accuracy: 72.48%, Avg Energy: 2.2079\n"
     ]
    },
    {
     "name": "stderr",
     "output_type": "stream",
     "text": [
      "Epoch 81/500: 100%|██████████| 1750/1750 [00:15<00:00, 115.82batch/s]\n"
     ]
    },
    {
     "name": "stdout",
     "output_type": "stream",
     "text": [
      "Weights and structure saved to /Users/rknzhl/projects/spin_glass/code/data/20241216_142627_epochs/weights_epoch_81.json\n",
      "Epoch 81/500, Avg Loss: 3.7299, Test Accuracy: 72.67%, Avg Energy: 2.2128\n"
     ]
    },
    {
     "name": "stderr",
     "output_type": "stream",
     "text": [
      "Epoch 82/500: 100%|██████████| 1750/1750 [00:14<00:00, 119.53batch/s]\n"
     ]
    },
    {
     "name": "stdout",
     "output_type": "stream",
     "text": [
      "Weights and structure saved to /Users/rknzhl/projects/spin_glass/code/data/20241216_142627_epochs/weights_epoch_82.json\n",
      "Epoch 82/500, Avg Loss: 3.7226, Test Accuracy: 72.89%, Avg Energy: 2.2168\n"
     ]
    },
    {
     "name": "stderr",
     "output_type": "stream",
     "text": [
      "Epoch 83/500: 100%|██████████| 1750/1750 [00:14<00:00, 119.73batch/s]\n"
     ]
    },
    {
     "name": "stdout",
     "output_type": "stream",
     "text": [
      "Weights and structure saved to /Users/rknzhl/projects/spin_glass/code/data/20241216_142627_epochs/weights_epoch_83.json\n",
      "Epoch 83/500, Avg Loss: 3.7168, Test Accuracy: 72.98%, Avg Energy: 2.2194\n"
     ]
    },
    {
     "name": "stderr",
     "output_type": "stream",
     "text": [
      "Epoch 84/500: 100%|██████████| 1750/1750 [00:14<00:00, 121.69batch/s]\n"
     ]
    },
    {
     "name": "stdout",
     "output_type": "stream",
     "text": [
      "Weights and structure saved to /Users/rknzhl/projects/spin_glass/code/data/20241216_142627_epochs/weights_epoch_84.json\n",
      "Epoch 84/500, Avg Loss: 3.7108, Test Accuracy: 73.14%, Avg Energy: 2.2241\n"
     ]
    },
    {
     "name": "stderr",
     "output_type": "stream",
     "text": [
      "Epoch 85/500: 100%|██████████| 1750/1750 [00:13<00:00, 127.97batch/s]\n"
     ]
    },
    {
     "name": "stdout",
     "output_type": "stream",
     "text": [
      "Weights and structure saved to /Users/rknzhl/projects/spin_glass/code/data/20241216_142627_epochs/weights_epoch_85.json\n",
      "Epoch 85/500, Avg Loss: 3.7042, Test Accuracy: 73.39%, Avg Energy: 2.2285\n"
     ]
    },
    {
     "name": "stderr",
     "output_type": "stream",
     "text": [
      "Epoch 86/500: 100%|██████████| 1750/1750 [00:13<00:00, 126.91batch/s]\n"
     ]
    },
    {
     "name": "stdout",
     "output_type": "stream",
     "text": [
      "Weights and structure saved to /Users/rknzhl/projects/spin_glass/code/data/20241216_142627_epochs/weights_epoch_86.json\n",
      "Epoch 86/500, Avg Loss: 3.6990, Test Accuracy: 73.51%, Avg Energy: 2.2323\n"
     ]
    },
    {
     "name": "stderr",
     "output_type": "stream",
     "text": [
      "Epoch 87/500: 100%|██████████| 1750/1750 [00:14<00:00, 124.51batch/s]\n"
     ]
    },
    {
     "name": "stdout",
     "output_type": "stream",
     "text": [
      "Weights and structure saved to /Users/rknzhl/projects/spin_glass/code/data/20241216_142627_epochs/weights_epoch_87.json\n",
      "Epoch 87/500, Avg Loss: 3.6944, Test Accuracy: 73.64%, Avg Energy: 2.2345\n"
     ]
    },
    {
     "name": "stderr",
     "output_type": "stream",
     "text": [
      "Epoch 88/500: 100%|██████████| 1750/1750 [00:14<00:00, 118.22batch/s]\n"
     ]
    },
    {
     "name": "stdout",
     "output_type": "stream",
     "text": [
      "Weights and structure saved to /Users/rknzhl/projects/spin_glass/code/data/20241216_142627_epochs/weights_epoch_88.json\n",
      "Epoch 88/500, Avg Loss: 3.6905, Test Accuracy: 73.78%, Avg Energy: 2.2374\n"
     ]
    },
    {
     "name": "stderr",
     "output_type": "stream",
     "text": [
      "Epoch 89/500: 100%|██████████| 1750/1750 [00:14<00:00, 119.72batch/s]\n"
     ]
    },
    {
     "name": "stdout",
     "output_type": "stream",
     "text": [
      "Weights and structure saved to /Users/rknzhl/projects/spin_glass/code/data/20241216_142627_epochs/weights_epoch_89.json\n",
      "Epoch 89/500, Avg Loss: 3.6845, Test Accuracy: 73.97%, Avg Energy: 2.2401\n"
     ]
    },
    {
     "name": "stderr",
     "output_type": "stream",
     "text": [
      "Epoch 90/500: 100%|██████████| 1750/1750 [00:14<00:00, 122.79batch/s]\n"
     ]
    },
    {
     "name": "stdout",
     "output_type": "stream",
     "text": [
      "Weights and structure saved to /Users/rknzhl/projects/spin_glass/code/data/20241216_142627_epochs/weights_epoch_90.json\n",
      "Epoch 90/500, Avg Loss: 3.6801, Test Accuracy: 74.04%, Avg Energy: 2.2428\n"
     ]
    },
    {
     "name": "stderr",
     "output_type": "stream",
     "text": [
      "Epoch 91/500: 100%|██████████| 1750/1750 [00:14<00:00, 121.75batch/s]\n"
     ]
    },
    {
     "name": "stdout",
     "output_type": "stream",
     "text": [
      "Weights and structure saved to /Users/rknzhl/projects/spin_glass/code/data/20241216_142627_epochs/weights_epoch_91.json\n",
      "Epoch 91/500, Avg Loss: 3.6741, Test Accuracy: 74.16%, Avg Energy: 2.2455\n"
     ]
    },
    {
     "name": "stderr",
     "output_type": "stream",
     "text": [
      "Epoch 92/500: 100%|██████████| 1750/1750 [00:39<00:00, 43.99batch/s] \n"
     ]
    },
    {
     "name": "stdout",
     "output_type": "stream",
     "text": [
      "Weights and structure saved to /Users/rknzhl/projects/spin_glass/code/data/20241216_142627_epochs/weights_epoch_92.json\n",
      "Epoch 92/500, Avg Loss: 3.6696, Test Accuracy: 74.34%, Avg Energy: 2.2484\n"
     ]
    },
    {
     "name": "stderr",
     "output_type": "stream",
     "text": [
      "Epoch 93/500: 100%|██████████| 1750/1750 [00:14<00:00, 116.92batch/s]\n"
     ]
    },
    {
     "name": "stdout",
     "output_type": "stream",
     "text": [
      "Weights and structure saved to /Users/rknzhl/projects/spin_glass/code/data/20241216_142627_epochs/weights_epoch_93.json\n",
      "Epoch 93/500, Avg Loss: 3.6654, Test Accuracy: 74.33%, Avg Energy: 2.2501\n"
     ]
    },
    {
     "name": "stderr",
     "output_type": "stream",
     "text": [
      "Epoch 94/500: 100%|██████████| 1750/1750 [00:14<00:00, 117.23batch/s]\n"
     ]
    },
    {
     "name": "stdout",
     "output_type": "stream",
     "text": [
      "Weights and structure saved to /Users/rknzhl/projects/spin_glass/code/data/20241216_142627_epochs/weights_epoch_94.json\n",
      "Epoch 94/500, Avg Loss: 3.6584, Test Accuracy: 74.40%, Avg Energy: 2.2521\n"
     ]
    },
    {
     "name": "stderr",
     "output_type": "stream",
     "text": [
      "Epoch 95/500: 100%|██████████| 1750/1750 [00:15<00:00, 110.16batch/s]\n"
     ]
    },
    {
     "name": "stdout",
     "output_type": "stream",
     "text": [
      "Weights and structure saved to /Users/rknzhl/projects/spin_glass/code/data/20241216_142627_epochs/weights_epoch_95.json\n",
      "Epoch 95/500, Avg Loss: 3.6507, Test Accuracy: 74.54%, Avg Energy: 2.2520\n"
     ]
    },
    {
     "name": "stderr",
     "output_type": "stream",
     "text": [
      "Epoch 96/500: 100%|██████████| 1750/1750 [00:15<00:00, 112.77batch/s]\n"
     ]
    },
    {
     "name": "stdout",
     "output_type": "stream",
     "text": [
      "Weights and structure saved to /Users/rknzhl/projects/spin_glass/code/data/20241216_142627_epochs/weights_epoch_96.json\n",
      "Epoch 96/500, Avg Loss: 3.6468, Test Accuracy: 74.67%, Avg Energy: 2.2532\n"
     ]
    },
    {
     "name": "stderr",
     "output_type": "stream",
     "text": [
      "Epoch 97/500: 100%|██████████| 1750/1750 [00:15<00:00, 113.75batch/s]\n"
     ]
    },
    {
     "name": "stdout",
     "output_type": "stream",
     "text": [
      "Weights and structure saved to /Users/rknzhl/projects/spin_glass/code/data/20241216_142627_epochs/weights_epoch_97.json\n",
      "Epoch 97/500, Avg Loss: 3.6400, Test Accuracy: 74.87%, Avg Energy: 2.2539\n"
     ]
    },
    {
     "name": "stderr",
     "output_type": "stream",
     "text": [
      "Epoch 98/500: 100%|██████████| 1750/1750 [00:15<00:00, 116.50batch/s]\n"
     ]
    },
    {
     "name": "stdout",
     "output_type": "stream",
     "text": [
      "Weights and structure saved to /Users/rknzhl/projects/spin_glass/code/data/20241216_142627_epochs/weights_epoch_98.json\n",
      "Epoch 98/500, Avg Loss: 3.6352, Test Accuracy: 74.96%, Avg Energy: 2.2556\n"
     ]
    },
    {
     "name": "stderr",
     "output_type": "stream",
     "text": [
      "Epoch 99/500: 100%|██████████| 1750/1750 [00:15<00:00, 116.05batch/s]\n"
     ]
    },
    {
     "name": "stdout",
     "output_type": "stream",
     "text": [
      "Weights and structure saved to /Users/rknzhl/projects/spin_glass/code/data/20241216_142627_epochs/weights_epoch_99.json\n",
      "Epoch 99/500, Avg Loss: 3.6304, Test Accuracy: 75.06%, Avg Energy: 2.2591\n"
     ]
    },
    {
     "name": "stderr",
     "output_type": "stream",
     "text": [
      "Epoch 100/500: 100%|██████████| 1750/1750 [00:15<00:00, 116.63batch/s]\n"
     ]
    },
    {
     "name": "stdout",
     "output_type": "stream",
     "text": [
      "Weights and structure saved to /Users/rknzhl/projects/spin_glass/code/data/20241216_142627_epochs/weights_epoch_100.json\n",
      "Epoch 100/500, Avg Loss: 3.6263, Test Accuracy: 75.22%, Avg Energy: 2.2616\n"
     ]
    },
    {
     "name": "stderr",
     "output_type": "stream",
     "text": [
      "Epoch 101/500: 100%|██████████| 1750/1750 [00:15<00:00, 110.48batch/s]\n"
     ]
    },
    {
     "name": "stdout",
     "output_type": "stream",
     "text": [
      "Weights and structure saved to /Users/rknzhl/projects/spin_glass/code/data/20241216_142627_epochs/weights_epoch_101.json\n",
      "Epoch 101/500, Avg Loss: 3.6203, Test Accuracy: 75.40%, Avg Energy: 2.2660\n"
     ]
    },
    {
     "name": "stderr",
     "output_type": "stream",
     "text": [
      "Epoch 102/500: 100%|██████████| 1750/1750 [00:19<00:00, 88.17batch/s] \n"
     ]
    },
    {
     "name": "stdout",
     "output_type": "stream",
     "text": [
      "Weights and structure saved to /Users/rknzhl/projects/spin_glass/code/data/20241216_142627_epochs/weights_epoch_102.json\n",
      "Epoch 102/500, Avg Loss: 3.6144, Test Accuracy: 75.51%, Avg Energy: 2.2704\n"
     ]
    },
    {
     "name": "stderr",
     "output_type": "stream",
     "text": [
      "Epoch 103/500: 100%|██████████| 1750/1750 [00:22<00:00, 79.13batch/s]\n"
     ]
    },
    {
     "name": "stdout",
     "output_type": "stream",
     "text": [
      "Weights and structure saved to /Users/rknzhl/projects/spin_glass/code/data/20241216_142627_epochs/weights_epoch_103.json\n",
      "Epoch 103/500, Avg Loss: 3.6105, Test Accuracy: 75.57%, Avg Energy: 2.2742\n"
     ]
    },
    {
     "name": "stderr",
     "output_type": "stream",
     "text": [
      "Epoch 104/500: 100%|██████████| 1750/1750 [00:20<00:00, 83.36batch/s]\n"
     ]
    },
    {
     "name": "stdout",
     "output_type": "stream",
     "text": [
      "Weights and structure saved to /Users/rknzhl/projects/spin_glass/code/data/20241216_142627_epochs/weights_epoch_104.json\n",
      "Epoch 104/500, Avg Loss: 3.6064, Test Accuracy: 75.76%, Avg Energy: 2.2784\n"
     ]
    },
    {
     "name": "stderr",
     "output_type": "stream",
     "text": [
      "Epoch 105/500: 100%|██████████| 1750/1750 [00:20<00:00, 86.67batch/s]\n"
     ]
    },
    {
     "name": "stdout",
     "output_type": "stream",
     "text": [
      "Weights and structure saved to /Users/rknzhl/projects/spin_glass/code/data/20241216_142627_epochs/weights_epoch_105.json\n",
      "Epoch 105/500, Avg Loss: 3.6019, Test Accuracy: 75.87%, Avg Energy: 2.2808\n"
     ]
    },
    {
     "name": "stderr",
     "output_type": "stream",
     "text": [
      "Epoch 106/500: 100%|██████████| 1750/1750 [00:18<00:00, 96.56batch/s] \n"
     ]
    },
    {
     "name": "stdout",
     "output_type": "stream",
     "text": [
      "Weights and structure saved to /Users/rknzhl/projects/spin_glass/code/data/20241216_142627_epochs/weights_epoch_106.json\n",
      "Epoch 106/500, Avg Loss: 3.5970, Test Accuracy: 75.93%, Avg Energy: 2.2829\n"
     ]
    },
    {
     "name": "stderr",
     "output_type": "stream",
     "text": [
      "Epoch 107/500: 100%|██████████| 1750/1750 [00:17<00:00, 99.04batch/s] \n"
     ]
    },
    {
     "name": "stdout",
     "output_type": "stream",
     "text": [
      "Weights and structure saved to /Users/rknzhl/projects/spin_glass/code/data/20241216_142627_epochs/weights_epoch_107.json\n",
      "Epoch 107/500, Avg Loss: 3.5931, Test Accuracy: 76.00%, Avg Energy: 2.2846\n"
     ]
    },
    {
     "name": "stderr",
     "output_type": "stream",
     "text": [
      "Epoch 108/500: 100%|██████████| 1750/1750 [00:17<00:00, 101.64batch/s]\n"
     ]
    },
    {
     "name": "stdout",
     "output_type": "stream",
     "text": [
      "Weights and structure saved to /Users/rknzhl/projects/spin_glass/code/data/20241216_142627_epochs/weights_epoch_108.json\n",
      "Epoch 108/500, Avg Loss: 3.5891, Test Accuracy: 75.99%, Avg Energy: 2.2848\n"
     ]
    },
    {
     "name": "stderr",
     "output_type": "stream",
     "text": [
      "Epoch 109/500: 100%|██████████| 1750/1750 [00:15<00:00, 109.40batch/s]\n"
     ]
    },
    {
     "name": "stdout",
     "output_type": "stream",
     "text": [
      "Weights and structure saved to /Users/rknzhl/projects/spin_glass/code/data/20241216_142627_epochs/weights_epoch_109.json\n",
      "Epoch 109/500, Avg Loss: 3.5840, Test Accuracy: 75.94%, Avg Energy: 2.2862\n"
     ]
    },
    {
     "name": "stderr",
     "output_type": "stream",
     "text": [
      "Epoch 110/500: 100%|██████████| 1750/1750 [00:15<00:00, 111.01batch/s]\n"
     ]
    },
    {
     "name": "stdout",
     "output_type": "stream",
     "text": [
      "Weights and structure saved to /Users/rknzhl/projects/spin_glass/code/data/20241216_142627_epochs/weights_epoch_110.json\n",
      "Epoch 110/500, Avg Loss: 3.5794, Test Accuracy: 76.02%, Avg Energy: 2.2889\n"
     ]
    },
    {
     "name": "stderr",
     "output_type": "stream",
     "text": [
      "Epoch 111/500: 100%|██████████| 1750/1750 [00:16<00:00, 107.15batch/s]\n"
     ]
    },
    {
     "name": "stdout",
     "output_type": "stream",
     "text": [
      "Weights and structure saved to /Users/rknzhl/projects/spin_glass/code/data/20241216_142627_epochs/weights_epoch_111.json\n",
      "Epoch 111/500, Avg Loss: 3.5749, Test Accuracy: 76.09%, Avg Energy: 2.2910\n"
     ]
    },
    {
     "name": "stderr",
     "output_type": "stream",
     "text": [
      "Epoch 112/500: 100%|██████████| 1750/1750 [00:15<00:00, 114.33batch/s]\n"
     ]
    },
    {
     "name": "stdout",
     "output_type": "stream",
     "text": [
      "Weights and structure saved to /Users/rknzhl/projects/spin_glass/code/data/20241216_142627_epochs/weights_epoch_112.json\n",
      "Epoch 112/500, Avg Loss: 3.5695, Test Accuracy: 76.24%, Avg Energy: 2.2934\n"
     ]
    },
    {
     "name": "stderr",
     "output_type": "stream",
     "text": [
      "Epoch 113/500: 100%|██████████| 1750/1750 [00:15<00:00, 115.93batch/s]\n"
     ]
    },
    {
     "name": "stdout",
     "output_type": "stream",
     "text": [
      "Weights and structure saved to /Users/rknzhl/projects/spin_glass/code/data/20241216_142627_epochs/weights_epoch_113.json\n",
      "Epoch 113/500, Avg Loss: 3.5659, Test Accuracy: 76.24%, Avg Energy: 2.2951\n"
     ]
    },
    {
     "name": "stderr",
     "output_type": "stream",
     "text": [
      "Epoch 114/500: 100%|██████████| 1750/1750 [00:14<00:00, 117.71batch/s]\n"
     ]
    },
    {
     "name": "stdout",
     "output_type": "stream",
     "text": [
      "Weights and structure saved to /Users/rknzhl/projects/spin_glass/code/data/20241216_142627_epochs/weights_epoch_114.json\n",
      "Epoch 114/500, Avg Loss: 3.5611, Test Accuracy: 76.31%, Avg Energy: 2.2974\n"
     ]
    },
    {
     "name": "stderr",
     "output_type": "stream",
     "text": [
      "Epoch 115/500: 100%|██████████| 1750/1750 [00:15<00:00, 115.29batch/s]\n"
     ]
    },
    {
     "name": "stdout",
     "output_type": "stream",
     "text": [
      "Weights and structure saved to /Users/rknzhl/projects/spin_glass/code/data/20241216_142627_epochs/weights_epoch_115.json\n",
      "Epoch 115/500, Avg Loss: 3.5562, Test Accuracy: 76.34%, Avg Energy: 2.2993\n"
     ]
    },
    {
     "name": "stderr",
     "output_type": "stream",
     "text": [
      "Epoch 116/500: 100%|██████████| 1750/1750 [00:14<00:00, 117.53batch/s]\n"
     ]
    },
    {
     "name": "stdout",
     "output_type": "stream",
     "text": [
      "Weights and structure saved to /Users/rknzhl/projects/spin_glass/code/data/20241216_142627_epochs/weights_epoch_116.json\n",
      "Epoch 116/500, Avg Loss: 3.5526, Test Accuracy: 76.31%, Avg Energy: 2.3003\n"
     ]
    },
    {
     "name": "stderr",
     "output_type": "stream",
     "text": [
      "Epoch 117/500: 100%|██████████| 1750/1750 [00:15<00:00, 112.52batch/s]\n"
     ]
    },
    {
     "name": "stdout",
     "output_type": "stream",
     "text": [
      "Weights and structure saved to /Users/rknzhl/projects/spin_glass/code/data/20241216_142627_epochs/weights_epoch_117.json\n",
      "Epoch 117/500, Avg Loss: 3.5485, Test Accuracy: 76.34%, Avg Energy: 2.3032\n"
     ]
    },
    {
     "name": "stderr",
     "output_type": "stream",
     "text": [
      "Epoch 118/500: 100%|██████████| 1750/1750 [00:15<00:00, 115.84batch/s]\n"
     ]
    },
    {
     "name": "stdout",
     "output_type": "stream",
     "text": [
      "Weights and structure saved to /Users/rknzhl/projects/spin_glass/code/data/20241216_142627_epochs/weights_epoch_118.json\n",
      "Epoch 118/500, Avg Loss: 3.5443, Test Accuracy: 76.33%, Avg Energy: 2.3051\n"
     ]
    },
    {
     "name": "stderr",
     "output_type": "stream",
     "text": [
      "Epoch 119/500: 100%|██████████| 1750/1750 [00:15<00:00, 113.94batch/s]\n"
     ]
    },
    {
     "name": "stdout",
     "output_type": "stream",
     "text": [
      "Weights and structure saved to /Users/rknzhl/projects/spin_glass/code/data/20241216_142627_epochs/weights_epoch_119.json\n",
      "Epoch 119/500, Avg Loss: 3.5395, Test Accuracy: 76.49%, Avg Energy: 2.3073\n"
     ]
    },
    {
     "name": "stderr",
     "output_type": "stream",
     "text": [
      "Epoch 120/500: 100%|██████████| 1750/1750 [00:14<00:00, 118.38batch/s]\n"
     ]
    },
    {
     "name": "stdout",
     "output_type": "stream",
     "text": [
      "Weights and structure saved to /Users/rknzhl/projects/spin_glass/code/data/20241216_142627_epochs/weights_epoch_120.json\n",
      "Epoch 120/500, Avg Loss: 3.5363, Test Accuracy: 76.50%, Avg Energy: 2.3099\n"
     ]
    },
    {
     "name": "stderr",
     "output_type": "stream",
     "text": [
      "Epoch 121/500: 100%|██████████| 1750/1750 [00:14<00:00, 117.20batch/s]\n"
     ]
    },
    {
     "name": "stdout",
     "output_type": "stream",
     "text": [
      "Weights and structure saved to /Users/rknzhl/projects/spin_glass/code/data/20241216_142627_epochs/weights_epoch_121.json\n",
      "Epoch 121/500, Avg Loss: 3.5323, Test Accuracy: 76.54%, Avg Energy: 2.3122\n"
     ]
    },
    {
     "name": "stderr",
     "output_type": "stream",
     "text": [
      "Epoch 122/500: 100%|██████████| 1750/1750 [00:15<00:00, 115.36batch/s]\n"
     ]
    },
    {
     "name": "stdout",
     "output_type": "stream",
     "text": [
      "Weights and structure saved to /Users/rknzhl/projects/spin_glass/code/data/20241216_142627_epochs/weights_epoch_122.json\n",
      "Epoch 122/500, Avg Loss: 3.5277, Test Accuracy: 76.51%, Avg Energy: 2.3131\n"
     ]
    },
    {
     "name": "stderr",
     "output_type": "stream",
     "text": [
      "Epoch 123/500: 100%|██████████| 1750/1750 [00:15<00:00, 115.05batch/s]\n"
     ]
    },
    {
     "name": "stdout",
     "output_type": "stream",
     "text": [
      "Weights and structure saved to /Users/rknzhl/projects/spin_glass/code/data/20241216_142627_epochs/weights_epoch_123.json\n",
      "Epoch 123/500, Avg Loss: 3.5247, Test Accuracy: 76.57%, Avg Energy: 2.3149\n"
     ]
    },
    {
     "name": "stderr",
     "output_type": "stream",
     "text": [
      "Epoch 124/500: 100%|██████████| 1750/1750 [00:16<00:00, 107.62batch/s]\n"
     ]
    },
    {
     "name": "stdout",
     "output_type": "stream",
     "text": [
      "Weights and structure saved to /Users/rknzhl/projects/spin_glass/code/data/20241216_142627_epochs/weights_epoch_124.json\n",
      "Epoch 124/500, Avg Loss: 3.5209, Test Accuracy: 76.59%, Avg Energy: 2.3167\n"
     ]
    },
    {
     "name": "stderr",
     "output_type": "stream",
     "text": [
      "Epoch 125/500: 100%|██████████| 1750/1750 [00:16<00:00, 108.29batch/s]\n"
     ]
    },
    {
     "name": "stdout",
     "output_type": "stream",
     "text": [
      "Weights and structure saved to /Users/rknzhl/projects/spin_glass/code/data/20241216_142627_epochs/weights_epoch_125.json\n",
      "Epoch 125/500, Avg Loss: 3.5181, Test Accuracy: 76.66%, Avg Energy: 2.3183\n"
     ]
    },
    {
     "name": "stderr",
     "output_type": "stream",
     "text": [
      "Epoch 126/500: 100%|██████████| 1750/1750 [00:15<00:00, 115.51batch/s]\n"
     ]
    },
    {
     "name": "stdout",
     "output_type": "stream",
     "text": [
      "Weights and structure saved to /Users/rknzhl/projects/spin_glass/code/data/20241216_142627_epochs/weights_epoch_126.json\n",
      "Epoch 126/500, Avg Loss: 3.5140, Test Accuracy: 76.62%, Avg Energy: 2.3202\n"
     ]
    },
    {
     "name": "stderr",
     "output_type": "stream",
     "text": [
      "Epoch 127/500: 100%|██████████| 1750/1750 [00:15<00:00, 110.52batch/s]\n"
     ]
    },
    {
     "name": "stdout",
     "output_type": "stream",
     "text": [
      "Weights and structure saved to /Users/rknzhl/projects/spin_glass/code/data/20241216_142627_epochs/weights_epoch_127.json\n",
      "Epoch 127/500, Avg Loss: 3.5106, Test Accuracy: 76.66%, Avg Energy: 2.3220\n"
     ]
    },
    {
     "name": "stderr",
     "output_type": "stream",
     "text": [
      "Epoch 128/500: 100%|██████████| 1750/1750 [00:16<00:00, 104.64batch/s]\n"
     ]
    },
    {
     "name": "stdout",
     "output_type": "stream",
     "text": [
      "Weights and structure saved to /Users/rknzhl/projects/spin_glass/code/data/20241216_142627_epochs/weights_epoch_128.json\n",
      "Epoch 128/500, Avg Loss: 3.5069, Test Accuracy: 76.73%, Avg Energy: 2.3241\n"
     ]
    },
    {
     "name": "stderr",
     "output_type": "stream",
     "text": [
      "Epoch 129/500: 100%|██████████| 1750/1750 [00:17<00:00, 101.74batch/s]\n"
     ]
    },
    {
     "name": "stdout",
     "output_type": "stream",
     "text": [
      "Weights and structure saved to /Users/rknzhl/projects/spin_glass/code/data/20241216_142627_epochs/weights_epoch_129.json\n"
     ]
    },
    {
     "ename": "KeyboardInterrupt",
     "evalue": "",
     "output_type": "error",
     "traceback": [
      "\u001b[0;31m---------------------------------------------------------------------------\u001b[0m",
      "\u001b[0;31mKeyboardInterrupt\u001b[0m                         Traceback (most recent call last)",
      "Cell \u001b[0;32mIn[7], line 5\u001b[0m\n\u001b[1;32m      1\u001b[0m model \u001b[38;5;241m=\u001b[39m MSKModel(layer_sizes\u001b[38;5;241m=\u001b[39m[\u001b[38;5;241m784\u001b[39m, \u001b[38;5;241m256\u001b[39m, \u001b[38;5;241m128\u001b[39m, \u001b[38;5;241m10\u001b[39m], lr\u001b[38;5;241m=\u001b[39m\u001b[38;5;241m0.005\u001b[39m, momentum\u001b[38;5;241m=\u001b[39m\u001b[38;5;241m0.9\u001b[39m)\n\u001b[1;32m      3\u001b[0m model\u001b[38;5;241m.\u001b[39minitialize_weights()\n\u001b[0;32m----> 5\u001b[0m \u001b[43mtrain\u001b[49m\u001b[43m(\u001b[49m\u001b[43mmodel\u001b[49m\u001b[43m,\u001b[49m\u001b[43m \u001b[49m\u001b[43mX_train\u001b[49m\u001b[43m,\u001b[49m\u001b[43m \u001b[49m\u001b[43my_train\u001b[49m\u001b[43m,\u001b[49m\u001b[43m \u001b[49m\u001b[43mX_test\u001b[49m\u001b[43m,\u001b[49m\u001b[43m \u001b[49m\u001b[43my_test\u001b[49m\u001b[43m,\u001b[49m\u001b[43m \u001b[49m\u001b[43msave_dir\u001b[49m\u001b[43m \u001b[49m\u001b[38;5;241;43m=\u001b[39;49m\u001b[43m \u001b[49m\u001b[43msave_dir\u001b[49m\u001b[43m,\u001b[49m\u001b[43m \u001b[49m\u001b[43mepochs\u001b[49m\u001b[38;5;241;43m=\u001b[39;49m\u001b[38;5;241;43m500\u001b[39;49m\u001b[43m,\u001b[49m\u001b[43m \u001b[49m\u001b[43mbatch_size\u001b[49m\u001b[38;5;241;43m=\u001b[39;49m\u001b[38;5;241;43m32\u001b[39;49m\u001b[43m,\u001b[49m\u001b[43m \u001b[49m\u001b[43mn_jobs\u001b[49m\u001b[38;5;241;43m=\u001b[39;49m\u001b[38;5;241;43m6\u001b[39;49m\u001b[43m)\u001b[49m\n",
      "File \u001b[0;32m~/projects/spin_glass/code/spin_nn/training.py:91\u001b[0m, in \u001b[0;36mtrain\u001b[0;34m(model, X_train, y_train, X_test, y_test, save_dir, epochs, batch_size, n_jobs)\u001b[0m\n\u001b[1;32m     88\u001b[0m weights_file \u001b[38;5;241m=\u001b[39m os\u001b[38;5;241m.\u001b[39mpath\u001b[38;5;241m.\u001b[39mjoin(session_dir, \u001b[38;5;124mf\u001b[39m\u001b[38;5;124m\"\u001b[39m\u001b[38;5;124mweights_epoch_\u001b[39m\u001b[38;5;132;01m{\u001b[39;00mepoch\u001b[38;5;250m \u001b[39m\u001b[38;5;241m+\u001b[39m\u001b[38;5;250m \u001b[39m\u001b[38;5;241m1\u001b[39m\u001b[38;5;132;01m}\u001b[39;00m\u001b[38;5;124m.json\u001b[39m\u001b[38;5;124m\"\u001b[39m)\n\u001b[1;32m     89\u001b[0m model\u001b[38;5;241m.\u001b[39msave_weights(weights_file)\n\u001b[0;32m---> 91\u001b[0m epoch_energy \u001b[38;5;241m=\u001b[39m \u001b[43mcalculate_epoch_energy\u001b[49m\u001b[43m(\u001b[49m\u001b[43mmodel\u001b[49m\u001b[43m,\u001b[49m\u001b[43m \u001b[49m\u001b[43mX_train_shuffled\u001b[49m\u001b[43m)\u001b[49m\n\u001b[1;32m     93\u001b[0m test_accuracy \u001b[38;5;241m=\u001b[39m evaluate(model, X_test, y_test)\n\u001b[1;32m     96\u001b[0m metrics[\u001b[38;5;124m\"\u001b[39m\u001b[38;5;124mepochs\u001b[39m\u001b[38;5;124m\"\u001b[39m]\u001b[38;5;241m.\u001b[39mappend(epoch \u001b[38;5;241m+\u001b[39m \u001b[38;5;241m1\u001b[39m)\n",
      "File \u001b[0;32m~/projects/spin_glass/code/spin_nn/equations.py:31\u001b[0m, in \u001b[0;36mcalculate_epoch_energy\u001b[0;34m(model, X_train, beta)\u001b[0m\n\u001b[1;32m     29\u001b[0m total_energy \u001b[38;5;241m=\u001b[39m \u001b[38;5;241m0.0\u001b[39m\n\u001b[1;32m     30\u001b[0m \u001b[38;5;28;01mfor\u001b[39;00m x \u001b[38;5;129;01min\u001b[39;00m X_train:\n\u001b[0;32m---> 31\u001b[0m     energy \u001b[38;5;241m=\u001b[39m \u001b[43mmodel\u001b[49m\u001b[38;5;241;43m.\u001b[39;49m\u001b[43mcalculate_hamiltonian\u001b[49m\u001b[43m(\u001b[49m\u001b[43mx\u001b[49m\u001b[43m)\u001b[49m\n\u001b[1;32m     32\u001b[0m     total_energy \u001b[38;5;241m+\u001b[39m\u001b[38;5;241m=\u001b[39m energy\n\u001b[1;32m     34\u001b[0m \u001b[38;5;28;01mreturn\u001b[39;00m total_energy \u001b[38;5;241m/\u001b[39m \u001b[38;5;28mlen\u001b[39m(X_train)\n",
      "File \u001b[0;32m~/projects/spin_glass/code/spin_nn/model.py:123\u001b[0m, in \u001b[0;36mMSKModel.calculate_hamiltonian\u001b[0;34m(self, spins)\u001b[0m\n\u001b[1;32m    120\u001b[0m     energy \u001b[38;5;241m-\u001b[39m\u001b[38;5;241m=\u001b[39m \u001b[38;5;241m0.5\u001b[39m \u001b[38;5;241m*\u001b[39m np\u001b[38;5;241m.\u001b[39msum(local_field \u001b[38;5;241m*\u001b[39m current_spins[:local_field\u001b[38;5;241m.\u001b[39mshape[\u001b[38;5;241m0\u001b[39m]])\n\u001b[1;32m    122\u001b[0m     \u001b[38;5;66;03m# Обновление состояний спинов\u001b[39;00m\n\u001b[0;32m--> 123\u001b[0m     current_spins \u001b[38;5;241m=\u001b[39m \u001b[38;5;28;43mself\u001b[39;49m\u001b[38;5;241;43m.\u001b[39;49m\u001b[43mstep_function\u001b[49m\u001b[43m(\u001b[49m\u001b[43mlocal_field\u001b[49m\u001b[43m)\u001b[49m  \u001b[38;5;66;03m# Бинаризация\u001b[39;00m\n\u001b[1;32m    125\u001b[0m \u001b[38;5;28;01mreturn\u001b[39;00m energy\n",
      "File \u001b[0;32m~/projects/spin_glass/code/spin_nn/model.py:25\u001b[0m, in \u001b[0;36mMSKModel.step_function\u001b[0;34m(x)\u001b[0m\n\u001b[1;32m     22\u001b[0m \u001b[38;5;129m@staticmethod\u001b[39m\n\u001b[1;32m     23\u001b[0m \u001b[38;5;28;01mdef\u001b[39;00m \u001b[38;5;21mstep_function\u001b[39m(x):\n\u001b[1;32m     24\u001b[0m \u001b[38;5;250m    \u001b[39m\u001b[38;5;124;03m\"\"\"Прямая активация: binarization step.\"\"\"\u001b[39;00m\n\u001b[0;32m---> 25\u001b[0m     \u001b[38;5;28;01mreturn\u001b[39;00m \u001b[43mnp\u001b[49m\u001b[38;5;241;43m.\u001b[39;49m\u001b[43mwhere\u001b[49m\u001b[43m(\u001b[49m\u001b[43mx\u001b[49m\u001b[43m \u001b[49m\u001b[38;5;241;43m>\u001b[39;49m\u001b[38;5;241;43m=\u001b[39;49m\u001b[43m \u001b[49m\u001b[38;5;241;43m0\u001b[39;49m\u001b[43m,\u001b[49m\u001b[43m \u001b[49m\u001b[38;5;241;43m1\u001b[39;49m\u001b[43m,\u001b[49m\u001b[43m \u001b[49m\u001b[38;5;241;43m-\u001b[39;49m\u001b[38;5;241;43m1\u001b[39;49m\u001b[43m)\u001b[49m\n",
      "File \u001b[0;32m~/projects/spin_glass/code/.venv/lib/python3.11/site-packages/numpy/_core/multiarray.py:383\u001b[0m, in \u001b[0;36mwhere\u001b[0;34m(condition, x, y)\u001b[0m\n\u001b[1;32m    291\u001b[0m \u001b[38;5;250m    \u001b[39m\u001b[38;5;124;03m\"\"\"\u001b[39;00m\n\u001b[1;32m    292\u001b[0m \u001b[38;5;124;03m    inner(a, b, /)\u001b[39;00m\n\u001b[1;32m    293\u001b[0m \n\u001b[0;32m   (...)\u001b[0m\n\u001b[1;32m    378\u001b[0m \n\u001b[1;32m    379\u001b[0m \u001b[38;5;124;03m    \"\"\"\u001b[39;00m\n\u001b[1;32m    380\u001b[0m     \u001b[38;5;28;01mreturn\u001b[39;00m (a, b)\n\u001b[0;32m--> 383\u001b[0m \u001b[38;5;129m@array_function_from_c_func_and_dispatcher\u001b[39m(_multiarray_umath\u001b[38;5;241m.\u001b[39mwhere)\n\u001b[1;32m    384\u001b[0m \u001b[38;5;28;01mdef\u001b[39;00m \u001b[38;5;21mwhere\u001b[39m(condition, x\u001b[38;5;241m=\u001b[39m\u001b[38;5;28;01mNone\u001b[39;00m, y\u001b[38;5;241m=\u001b[39m\u001b[38;5;28;01mNone\u001b[39;00m):\n\u001b[1;32m    385\u001b[0m \u001b[38;5;250m    \u001b[39m\u001b[38;5;124;03m\"\"\"\u001b[39;00m\n\u001b[1;32m    386\u001b[0m \u001b[38;5;124;03m    where(condition, [x, y], /)\u001b[39;00m\n\u001b[1;32m    387\u001b[0m \n\u001b[0;32m   (...)\u001b[0m\n\u001b[1;32m    454\u001b[0m \u001b[38;5;124;03m           [ 0,  3, -1]])\u001b[39;00m\n\u001b[1;32m    455\u001b[0m \u001b[38;5;124;03m    \"\"\"\u001b[39;00m\n\u001b[1;32m    456\u001b[0m     \u001b[38;5;28;01mreturn\u001b[39;00m (condition, x, y)\n",
      "\u001b[0;31mKeyboardInterrupt\u001b[0m: "
     ]
    }
   ],
   "source": [
    "model = MSKModel(layer_sizes=[784, 256, 128, 10], lr=0.005, momentum=0.9)\n",
    "\n",
    "model.initialize_weights()\n",
    "\n",
    "train(model, X_train, y_train, X_test, y_test, save_dir = save_dir, epochs=500, batch_size=32, n_jobs=6)"
   ]
  },
  {
   "cell_type": "code",
   "execution_count": null,
   "metadata": {},
   "outputs": [
    {
     "data": {
      "image/png": "[encoded data removed]",
      "text/plain": [
       "<Figure size 1500x1000 with 4 Axes>"
      ]
     },
     "metadata": {},
     "output_type": "display_data"
    }
   ],
   "source": [
    "import json\n",
    "import matplotlib.pyplot as plt\n",
    "\n",
    "def load_metrics(json_path):\n",
    "    with open(json_path, \"r\") as f:\n",
    "        metrics = json.load(f)\n",
    "    return metrics\n",
    "\n",
    "def plot_metrics(metrics):\n",
    "    epochs = metrics[\"epochs\"]\n",
    "    losses = metrics[\"losses\"]\n",
    "    accuracies = metrics[\"accuracies\"]\n",
    "    energies = metrics[\"energies\"]\n",
    "\n",
    "    plt.figure(figsize=(15, 10))\n",
    "\n",
    "    plt.subplot(2, 2, 1)\n",
    "    plt.plot(epochs, losses, marker='o', linestyle='-', color='blue')\n",
    "    plt.title(\"Loss over Epochs\")\n",
    "    plt.xlabel(\"Epochs\")\n",
    "    plt.ylabel(\"Loss\")\n",
    "    plt.grid()\n",
    "\n",
    "    plt.subplot(2, 2, 2)\n",
    "    plt.plot(epochs, accuracies, marker='o', linestyle='-', color='green')\n",
    "    plt.title(\"Accuracy over Epochs\")\n",
    "    plt.xlabel(\"Epochs\")\n",
    "    plt.ylabel(\"Accuracy (%)\")\n",
    "    plt.grid()\n",
    "\n",
    "    plt.subplot(2, 2, 3)\n",
    "    plt.plot(epochs, energies, marker='o', linestyle='-', color='red')\n",
    "    plt.title(\"Energy over Epochs\")\n",
    "    plt.xlabel(\"Epochs\")\n",
    "    plt.ylabel(\"Energy\")\n",
    "    plt.grid()\n",
    "\n",
    "    plt.subplot(2, 2, 4)\n",
    "    plt.plot(epochs, losses, marker='o', linestyle='-', label=\"Loss\", color='blue')\n",
    "    plt.plot(epochs, energies, marker='x', linestyle='--', label=\"Energy\", color='red')\n",
    "    plt.title(\"Loss and Energy over Epochs\")\n",
    "    plt.xlabel(\"Epochs\")\n",
    "    plt.ylabel(\"Value\")\n",
    "    plt.legend()\n",
    "    plt.grid()\n",
    "\n",
    "\n",
    "    plt.tight_layout()\n",
    "    plt.show()\n",
    "\n",
    "\n",
    "json_path = \"/Users/rknzhl/projects/spin_glass/code/data/20241216_142627_epochs/metrics.json\"  # Укажите правильный путь\n",
    "\n",
    "# Загружаем и строим графики\n",
    "metrics = load_metrics(json_path)\n",
    "plot_metrics(metrics)"
   ]
  },
  {
   "cell_type": "code",
   "execution_count": null,
   "metadata": {},
   "outputs": [],
   "source": [
    "\n"
   ]
  },
  {
   "cell_type": "code",
   "execution_count": null,
   "metadata": {},
   "outputs": [],
   "source": []
  }
 ],
 "metadata": {
  "kernelspec": {
   "display_name": ".venv",
   "language": "python",
   "name": "python3"
  },
  "language_info": {
   "codemirror_mode": {
    "name": "ipython",
    "version": 3
   },
   "file_extension": ".py",
   "mimetype": "text/x-python",
   "name": "python",
   "nbconvert_exporter": "python",
   "pygments_lexer": "ipython3",
   "version": "3.11.10"
  }
 },
 "nbformat": 4,
 "nbformat_minor": 2
}
